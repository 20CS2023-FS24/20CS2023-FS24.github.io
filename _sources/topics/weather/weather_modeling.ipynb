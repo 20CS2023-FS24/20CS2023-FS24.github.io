{
 "cells": [
  {
   "cell_type": "markdown",
   "metadata": {},
   "source": [
    "# Weather Modeling"
   ]
  },
  {
   "cell_type": "markdown",
   "metadata": {},
   "source": [
    "## Introduction\n",
    "\n",
    "In this lecture, we will learn how to model weather data. We will use the data from the [National Oceanic and Atmospheric Administration (NOAA) Global Historical Climatology Network](https://www.ncdc.noaa.gov/data-access/land-based-station-data/land-based-datasets/global-historical-climatology-network-ghcn) (GHCN) to model the temperature in the United States. The GHCN is a database of daily climate records from thousands of land surface stations across the globe."
   ]
  },
  {
   "cell_type": "markdown",
   "metadata": {},
   "source": [
    "## Warning {.hide}\n",
    "\n",
    "::: {.callout-warning}\n",
    "Many simplifications have been made in order to complete this demonstration in the lecture period.  There are a number of things that could be done to improve how the data is retrieved and modeled.  It is intended to demonstrate functionality on how a Python application can be built to model weather data.\n",
    ":::\n"
   ]
  },
  {
   "cell_type": "markdown",
   "metadata": {},
   "source": [
    "## API Token {.hide .smaller-85}\n",
    "\n",
    "To download the data, you will need to sign up for an API token on the NOAA website.  The National Climatic Data Center (NCDC) provides access to the GHCN data through Climate Data Online (CDO) web services. The API token is used to authenticate your requests to the CDO web services. You can sign up for an API token [here](https://www.ncdc.noaa.gov/cdo-web/token).\n",
    "\n",
    "![](./token-request.png)"
   ]
  },
  {
   "cell_type": "markdown",
   "metadata": {},
   "source": [
    "## Python Packages\n",
    "\n",
    "We will need the following Python packages to download and analyze the weather data:\n",
    "\n",
    "- `requests`: to make HTTP requests to the NOAA API\n",
    "- `pandas`: to work with tabular data\n",
    "- `matplotlib`: to create plots\n",
    "- `scipy`: to fit a model to the data\n",
    "- `python-dotenv`: to load the API token from the `.env` file\n"
   ]
  },
  {
   "cell_type": "markdown",
   "metadata": {},
   "source": [
    "## `requirements.txt` {.smaller-90}\n",
    "\n",
    "A requirements file is a simple text file that contains a list of Python packages that are required for the project. You can create a `requirements.txt` file in the same directory as this notebook with the following contents:\n",
    "\n",
    "```\n",
    "requests\n",
    "pandas\n",
    "matplotlib\n",
    "python-dotenv\n",
    "prophet\n",
    "jupyter\n",
    "ipywidgets\n",
    "plotly\n",
    "```\n",
    "\n",
    "You can install the required packages using the following command:\n",
    "\n",
    "```\n",
    "pip install -r requirements.txt\n",
    "```"
   ]
  },
  {
   "cell_type": "markdown",
   "metadata": {},
   "source": [
    "## Requirements Versioning {.smaller-90}\n",
    "\n",
    "You can specify the version of the required packages in the `requirements.txt` file.  This is referred to as \"pinning\" the versions of the required packages. For example, to require version 2.25.0 of the `requests` package, you can add the following line to the `requirements.txt` file:\n",
    "\n",
    "```\n",
    "requests==2.25.0\n",
    "```\n",
    "\n",
    "You can also specify a range of versions. For example, to require version 2.25.x of the `requests` package, you can add the following line to the `requirements.txt` file:\n",
    "\n",
    "```\n",
    "requests>=2.25.0,<2.26.0\n",
    "```"
   ]
  },
  {
   "cell_type": "markdown",
   "metadata": {},
   "source": [
    "## API Data Endpoint {.smaller-75}\n",
    "\n",
    "The API is described in the [NOAA API documentation](https://www.ncdc.noaa.gov/cdo-web/webservices/v2). We will be using the following data endpoint `https://www.ncei.noaa.gov/cdo-web/api/v2/data` to download the weather data.\n",
    "\n",
    "We will specify the following parameters in the query string:\n",
    "\n",
    "- `datasetid=GHCND` (to specify the dataset Global Historical Climatology Network)\n",
    "- `stationid=GHCND:USW00093814` (to specify the Cincinnati/Northern Kentucky International Airport weather station)\n",
    "- `datatypeid=TMAX,TMIN`\n",
    "- `units=standard` (to specify standard units - Fahrenheit)\n",
    "- `startdate=<start_date>` (to specify the start date)\n",
    "- `enddate=<end_date>` (to specify the end date)\n",
    "- `limit=1000`\n"
   ]
  },
  {
   "cell_type": "markdown",
   "metadata": {},
   "source": [
    "## Token Security {.smaller-90}\n",
    "\n",
    "You should keep your API token secure. Do not share it with others or post it publicly. You can store your API token in a file named `.env` in the same directory as your code. The `.env` file should contain the following line:\n",
    "\n",
    "```\n",
    "NOAA_TOKEN=your-api-token\n",
    "```"
   ]
  },
  {
   "cell_type": "markdown",
   "metadata": {},
   "source": [
    "## Test Code {.hide .smaller-55}\n",
    "\n",
    "```python\n",
    "import requests\n",
    "import os\n",
    "from dotenv import load_dotenv\n",
    "\n",
    "load_dotenv()\n",
    "noaa_token = os.getenv(\"NOAA_TOKEN\")\n",
    "\n",
    "base_url = \"https://www.ncdc.noaa.gov/cdo-web/api/v2\"\n",
    "data_endpoint = f\"{base_url}/data\"\n",
    "headers = {\"token\": noaa_token}\n",
    "\n",
    "params = {\n",
    "    \"datasetid\": \"GHCND\",\n",
    "    \"stationid\": \"GHCND:USW00093814\",\n",
    "    \"startdate\": \"2024-10-01\",\n",
    "    \"enddate\": \"2024-10-31\",\n",
    "    \"datatypeid\": \"TMAX,TMIN\",  # Only temperature data types\n",
    "    \"units\": \"standard\",  # Use standard units (Fahrenheit)\n",
    "    \"limit\": 1000\n",
    "}\n",
    "\n",
    "response = requests.get(\n",
    "    data_endpoint,\n",
    "    headers=headers,\n",
    "    params=params\n",
    ")\n",
    "\n",
    "response.raise_for_status()\n",
    "\n",
    "if response.status_code == 200:\n",
    "    data = response.json()\n",
    "```"
   ]
  },
  {
   "cell_type": "markdown",
   "metadata": {},
   "source": [
    "## Basic Temperature Forecasting {.hide .smaller-85}\n",
    "\n",
    ":::: {.columns}\n",
    "\n",
    "::: {.column width=40%}\n",
    "For a basic temperature forecasting model, you should ideally have at least 3-5 years of historical data to capture seasonal patterns and year-to-year variations effectively. 10+ years is ideal for capturing longer-term patterns and climate trends.\n",
    ":::\n",
    "\n",
    "::: {.column width=60%}\n",
    "![](./usw00093814-station-details.png)\n",
    ":::\n",
    "\n",
    "::::\n"
   ]
  },
  {
   "cell_type": "markdown",
   "metadata": {},
   "source": [
    "## `dataclass` {.hide .smaller-90}\n",
    "\n",
    "In Python, there is a special decorator called `dataclass` that can be used to create classes that are primarily used to store data. A `dataclass` automatically generates special methods such as `__init__`, `__repr__`, and `__eq__` for the class.  A `dataclass` is essentially a class that has boilerplate methods generated automatically.\n",
    "\n",
    "::: {.notes}\n",
    "- [Data Classes](https://docs.python.org/3/library/dataclasses.html)\n",
    "A data class is a class typically containing mainly data, without complex logic. Data classes are similar to namedtuples, but are more flexible.  Data classes are created using the `@dataclass` decorator.  Data classes are classes with boilerplate methods generated automatically.\n",
    ":::"
   ]
  },
  {
   "cell_type": "markdown",
   "metadata": {},
   "source": [
    "## Import Statements {.smaller-90}\n",
    "\n",
    "```python\n",
    "from dataclasses import dataclass\n",
    "from datetime import datetime\n",
    "from datetime import timedelta\n",
    "from dateutil.relativedelta import relativedelta\n",
    "import pandas as pd\n",
    "import requests\n",
    "import matplotlib.pyplot as plt\n",
    "from prophet import Prophet\n",
    "```"
   ]
  },
  {
   "cell_type": "markdown",
   "metadata": {},
   "source": [
    "## Step 1 {.hide .smaller-60}\n",
    "\n",
    "**Step 1**: We will create a `GHCNDStationTemps` dataclass to interact with the NOAA API and retrieve historical temperatures from a station.\n",
    "\n",
    "::: {.callout-info}\n",
    "Notice that there is no need to define the `__init__` method explicitly. The `dataclass` decorator automatically generates the `__init__` method for the class.\n",
    ":::"
   ]
  },
  {
   "cell_type": "code",
   "execution_count": 15,
   "metadata": {},
   "outputs": [],
   "source": [
    "from dataclasses import dataclass\n",
    "from datetime import datetime\n",
    "from datetime import timedelta\n",
    "\n",
    "@dataclass\n",
    "class GHCNDStationTemps:\n",
    "    token: str\n",
    "    stationid: str\n",
    "    end_date: datetime = datetime.now().date() - timedelta(days=1)\n",
    "    years_of_history: int = 3\n",
    "    endpoint: str = \"https://www.ncdc.noaa.gov/cdo-web/api/v2/data\"\n"
   ]
  },
  {
   "cell_type": "markdown",
   "metadata": {},
   "source": [
    "## Step 1: Testing {.hide .smaller-60}\n",
    "\n",
    "```python\n",
    "from noaa import GHCNDStationTemps\n",
    "from dotenv import load_dotenv\n",
    "import os\n",
    "\n",
    "load_dotenv()\n",
    "\n",
    "token = os.getenv(\"NOAA_TOKEN\")\n",
    "stationid = \"GHCND:USW00014739\"\n",
    "ghcnd = GHCNDStationTemps(token, stationid, years_of_history=3)\n",
    "```"
   ]
  },
  {
   "cell_type": "markdown",
   "metadata": {},
   "source": [
    "## Step 2 {.hide .smaller-60}\n",
    "\n",
    "**Step 2**: We will create a `fetch_data` method in the `GHCNDStationTemps` dataclass to fetch the historical temperature data from the NOAA API."
   ]
  },
  {
   "cell_type": "markdown",
   "metadata": {},
   "source": [
    "```python\n",
    "def fetch_data(self):\n",
    "    if self.end_date is None:\n",
    "        self.end_date = datetime.now() - timedelta(days=1)\n",
    "\n",
    "    start_date = self.end_date - relativedelta(years=self.years_of_history)\n",
    "    current_date = start_date\n",
    "    all_data = []\n",
    "\n",
    "    while current_date < self.end_date:\n",
    "        chunk_end = min(current_date + relativedelta(years=1) - timedelta(days=1), self.end_date)\n",
    "        params = {\n",
    "            \"datasetid\": \"GHCND\",\n",
    "            \"stationid\": self.stationid,\n",
    "            \"datatypeid\": \"TMAX,TMIN\",\n",
    "            \"units\": \"standard\",\n",
    "            \"startdate\": current_date.strftime(\"%Y-%m-%d\"),\n",
    "            \"enddate\": chunk_end.strftime(\"%Y-%m-%d\"),\n",
    "            \"limit\": 1000,\n",
    "        }\n",
    "\n",
    "        print(f\"Fetching data from {current_date.date()} to {chunk_end.date()}...\")\n",
    "        response = requests.get(self.endpoint, headers={\"token\": self.token}, params=params)\n",
    "        response.raise_for_status()\n",
    "\n",
    "        data = response.json()\n",
    "        if \"results\" in data:\n",
    "            all_data.extend(data[\"results\"])\n",
    "            print(f\"Retrieved {len(data['results'])} records.\")\n",
    "        else:\n",
    "            print(f\"No data found for {current_date.date()} to {chunk_end.date()}.\")\n",
    "\n",
    "        current_date = chunk_end + timedelta(days=1)\n",
    "\n",
    "    return all_data\n",
    "```"
   ]
  },
  {
   "cell_type": "markdown",
   "metadata": {},
   "source": [
    "## Step 2: Testing {.hide .smaller-60}\n",
    "\n",
    "```python\n",
    "from noaa import GHCNDStationTemps\n",
    "from dotenv import load_dotenv\n",
    "import os\n",
    "\n",
    "load_dotenv()\n",
    "\n",
    "token = os.getenv(\"NOAA_TOKEN\")\n",
    "stationid = \"GHCND:USW00014739\"\n",
    "ghcnd = GHCNDStationTemps(token, stationid, years_of_history=3)\n",
    "\n",
    "ghcnd.fetch_data()\n",
    "```"
   ]
  },
  {
   "cell_type": "markdown",
   "metadata": {},
   "source": [
    "## Step 3 {.hide .smaller-60}\n",
    "\n",
    "**Step 3**: Let's add a `data` property to the `GHCNDStationTemps` dataclass to return the historical temperature data.  This property will call the `fetch_data` method if the data is not already available.\n",
    "\n",
    "We will add a private `_data` attribute to the class to store the historical temperature data, initialized to `None`.\n",
    "\n",
    "```python\n",
    "_data: None\n",
    "```\n",
    "\n",
    "Next, modify the `fetch_data` method to be a private method by adding an underscore `_` to the method name.\n",
    "```python\n",
    "def _fetch_data(self):\n",
    "```\n",
    "\n",
    "Finally, we will define the `data` property to return the historical temperature data.\n",
    "```python\n",
    "@property\n",
    "def data(self):\n",
    "    if self._data is None:\n",
    "        print(\"Data is empty. Fetching data...\")\n",
    "        self._data = self.fetch_data()\n",
    "    return self._data\n",
    "```\n",
    "\n"
   ]
  },
  {
   "cell_type": "markdown",
   "metadata": {},
   "source": [
    "## Step 3: Testing {.hide .smaller-60}\n",
    "\n",
    "```python\n",
    "from noaa import GHCNDStationTemps\n",
    "from dotenv import load_dotenv\n",
    "import os\n",
    "\n",
    "load_dotenv()\n",
    "\n",
    "token = os.getenv(\"NOAA_TOKEN\")\n",
    "stationid = \"GHCND:USW00014739\"\n",
    "ghcnd = GHCNDStationTemps(token, stationid, years_of_history=3)\n",
    "\n",
    "ghcnd.data\n",
    "```"
   ]
  },
  {
   "cell_type": "markdown",
   "metadata": {},
   "source": [
    "## Step 4a {.hide .smaller-60}\n",
    "\n",
    "**Step 4a**: Let's modify `data` to return a `pandas` DataFrame instead of a list of dictionaries. Create a private `_convert_to_dataframe` static method to convert the raw data into a `pandas` DataFrame. \n",
    "\n",
    "```python\n",
    "@staticmethod\n",
    "def _convert_to_dataframe(all_data):\n",
    "    \"\"\"\n",
    "    Convert raw data into a pandas DataFrame with 'Date', 'TMAX', and 'TMIN' columns.\n",
    "    \"\"\"\n",
    "    # Convert to DataFrame and handle missing keys/values (e.g., NaN)\n",
    "    df = pd.DataFrame(all_data)\n",
    "\n",
    "    # Explicitly keep only the required columns\n",
    "    columns_to_keep = ['date', 'datatype', 'value']\n",
    "    if not all(col in df.columns for col in columns_to_keep):\n",
    "        raise ValueError(f\"Input data must contain these columns: {columns_to_keep}\")\n",
    "    \n",
    "    df = df[columns_to_keep]\n",
    "\n",
    "    # Pivot the table to get 'datatype' values as columns\n",
    "    df_pivot = df.pivot(index='date', columns='datatype', values='value')\n",
    "    # Remove the MultiIndex column formatting by renaming or flattening\n",
    "    df_pivot.columns.name = None\n",
    "    df_pivot = df_pivot.reset_index()\n",
    "\n",
    "    # Convert 'date' column to datetime.date type\n",
    "    df_pivot['date'] = pd.to_datetime(df_pivot['date']).dt.date\n",
    "    \n",
    "    # Rename columns for better readability\n",
    "    df_pivot.rename(columns={'TMAX': 'Max Temperature (°C)', \n",
    "                                'TMIN': 'Min Temperature (°C)',\n",
    "                                'date': 'Date'},\n",
    "                                inplace=True)\n",
    "\n",
    "    return df_pivot\n",
    "```"
   ]
  },
  {
   "cell_type": "markdown",
   "metadata": {},
   "source": [
    "## Step 4b {.hide .smaller-60}\n",
    "\n",
    "**Step 4b**: Modify the `data` property to return a `pandas` DataFrame.\n",
    "\n",
    "```python\n",
    "@property\n",
    "def data(self):\n",
    "    if self._data is None:\n",
    "        print(\"Data is empty. Fetching and converting data...\")\n",
    "        raw_data = self._fetch_data()\n",
    "        self._data = self._convert_to_dataframe(raw_data)\n",
    "    return self._data\n",
    "```"
   ]
  },
  {
   "cell_type": "markdown",
   "metadata": {},
   "source": [
    "## Step 4: Testing {.hide .smaller-60}\n",
    "\n",
    "```python\n",
    "from noaa import GHCNDStationTemps\n",
    "from dotenv import load_dotenv\n",
    "import os\n",
    "\n",
    "load_dotenv()\n",
    "\n",
    "token = os.getenv(\"NOAA_TOKEN\")\n",
    "stationid = \"GHCND:USW00014739\"\n",
    "ghcnd = GHCNDStationTemps(token, stationid, years_of_history=3)\n",
    "\n",
    "ghcnd.data\n",
    "```"
   ]
  },
  {
   "cell_type": "markdown",
   "metadata": {},
   "source": [
    "## Step 5 {.hide .smaller-60}\n",
    "\n",
    "**Step 5**: Let's add a `plot` method to the `GHCNDStationTemps` dataclass to plot the historical temperature data.\n",
    "\n",
    "```python\n",
    "def plot_temperatures(self):\n",
    "    if self.data is None or self.data.empty:\n",
    "        print(\"No data available to plot.\")\n",
    "        return\n",
    "\n",
    "    plt.figure(figsize=(10, 6))\n",
    "    plt.plot(self.data['Date'], self.data['Max Temperature (°C)'], label='Max Temperature (°C)', color='red')\n",
    "    plt.plot(self.data['Date'], self.data['Min Temperature (°C)'], label='Min Temperature (°C)', color='blue')\n",
    "    plt.xlabel('Date')\n",
    "    plt.ylabel('Temperature (°C)')\n",
    "    plt.title(f'Temperature Trends for Station {self.stationid}')\n",
    "    plt.legend()\n",
    "    plt.grid(True)\n",
    "    plt.tight_layout()\n",
    "    plt.show()\n",
    "```"
   ]
  },
  {
   "cell_type": "markdown",
   "metadata": {},
   "source": [
    "## Step 5: Testing {.hide .smaller-60}\n",
    "\n",
    "```python\n",
    "from noaa import GHCNDStationTemps\n",
    "from dotenv import load_dotenv\n",
    "import os\n",
    "\n",
    "load_dotenv()\n",
    "\n",
    "token = os.getenv(\"NOAA_TOKEN\")\n",
    "stationid = \"GHCND:USW00014739\"\n",
    "ghcnd = GHCNDStationTemps(token, stationid, years_of_history=3)\n",
    "\n",
    "ghcnd.data\n",
    "\n",
    "ghcnd.plot_temperatures()\n",
    "```"
   ]
  },
  {
   "cell_type": "markdown",
   "metadata": {},
   "source": [
    "## Step 6a {.hide .smaller-60}\n",
    "\n",
    "We are now ready to model the temperature data. We will use the `prophet` package to fit a time series model to the temperature data.  The `prophet` package is a forecasting tool developed by Facebook that is designed for analyzing time series data that display patterns on different time scales.\n",
    "\n",
    ":::{.callout-info}\n",
    "This lecture isn't intended to provide a detailed explanation of time series modeling. For more information on time series modeling, refer to the [Prophet documentation](https://facebook.github.io/prophet/).  It is intended to demonstrate functionality on how a Python application can be built to model weather data.\n",
    ":::\n",
    "\n"
   ]
  },
  {
   "cell_type": "markdown",
   "metadata": {},
   "source": [
    "## Step 6b {.hide .smaller-60}\n",
    "\n",
    "```python\n",
    "def forecast_daily_temperatures(self, n_periods=30):\n",
    "    if self.data is None or self.data.empty:\n",
    "        raise ValueError(\"No data available to forecast.\")\n",
    "\n",
    "    # Prepare data for Prophet\n",
    "    df_max = self.data[['Date', 'Max Temperature (°C)']].rename(\n",
    "        columns={'Date': 'ds', 'Max Temperature (°C)': 'y'})\n",
    "    df_min = self.data[['Date', 'Min Temperature (°C)']].rename(\n",
    "        columns={'Date': 'ds', 'Min Temperature (°C)': 'y'})\n",
    "\n",
    "    # Forecasting Max Temperature\n",
    "    max_model = Prophet()\n",
    "    max_model.fit(df_max)\n",
    "    future_max = max_model.make_future_dataframe(periods=n_periods)\n",
    "    max_forecast = max_model.predict(future_max)\n",
    "\n",
    "    # Forecasting Min Temperature\n",
    "    min_model = Prophet()\n",
    "    min_model.fit(df_min)\n",
    "    future_min = min_model.make_future_dataframe(periods=n_periods)\n",
    "    min_forecast = min_model.predict(future_min)\n",
    "\n",
    "    # Create DataFrame with forecasted values\n",
    "    forecast_df = pd.DataFrame({\n",
    "        'Date': max_forecast['ds'][-n_periods:].values,\n",
    "        'Forecast Max Temperature (°C)': max_forecast['yhat'][-n_periods:].values,\n",
    "        'Forecast Min Temperature (°C)': min_forecast['yhat'][-n_periods:].values\n",
    "    })\n",
    "\n",
    "    return forecast_df\n",
    "```"
   ]
  },
  {
   "cell_type": "markdown",
   "metadata": {},
   "source": [
    "## Step 6: Testing {.hide .smaller-60}\n",
    "\n",
    "```python\n",
    "from noaa import GHCNDStationTemps\n",
    "from dotenv import load_dotenv\n",
    "import os\n",
    "\n",
    "load_dotenv()\n",
    "\n",
    "token = os.getenv(\"NOAA_TOKEN\")\n",
    "stationid = \"GHCND:USW00014739\"\n",
    "ghcnd = GHCNDStationTemps(token, stationid, years_of_history=3)\n",
    "\n",
    "ghcnd.data\n",
    "\n",
    "ghcnd.plot_temperatures()\n",
    "\n",
    "forecast = ghcnd.forecast_temperatures(n_periods=12)\n",
    "\n",
    "ghcnd.data\n",
    "forecast = ghcnd.forecast_daily_temperatures(n_periods=30)\n",
    "```\n"
   ]
  },
  {
   "cell_type": "markdown",
   "metadata": {},
   "source": []
  }
 ],
 "metadata": {
  "kernelspec": {
   "display_name": "Python 3",
   "language": "python",
   "name": "python3"
  },
  "language_info": {
   "codemirror_mode": {
    "name": "ipython",
    "version": 3
   },
   "file_extension": ".py",
   "mimetype": "text/x-python",
   "name": "python",
   "nbconvert_exporter": "python",
   "pygments_lexer": "ipython3",
   "version": "3.12.7"
  }
 },
 "nbformat": 4,
 "nbformat_minor": 2
}
