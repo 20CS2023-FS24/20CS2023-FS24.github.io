{
 "cells": [
  {
   "cell_type": "markdown",
   "metadata": {},
   "source": [
    "# Pong"
   ]
  },
  {
   "cell_type": "markdown",
   "metadata": {},
   "source": [
    "## What is Pong?\n",
    "\n",
    "Pong is a table tennis–themed arcade sports video game, featuring simple two-dimensional graphics. The game was originally manufactured by Atari, which released it in 1972. Allan Alcorn created Pong as a training exercise assigned to him by Atari co-founder Nolan Bushnell. Atari made it famous, but it was actually copied from a game developed by Magnavox. It resulted in a lawsuit that was settled in 1976, with Atari paying Magnavox some monies."
   ]
  },
  {
   "cell_type": "markdown",
   "metadata": {},
   "source": [
    "## Introduction\n",
    "\n",
    "In this tutorial, we will build a simple Pong game step-by-step using Python's Tkinter library.\n",
    "Each step will add new functionality, from creating the canvas and ball to adding paddle controls, \n",
    "collision detection, and game management. Let's get started!"
   ]
  },
  {
   "cell_type": "markdown",
   "metadata": {},
   "source": [
    "## Step 1: Create the Canvas {.hide .smaller-85}\n",
    "\n",
    "**Step 1**: First, we’ll create a window and add a canvas where the game will take place. This will be the main area where the ball and paddle will interact.\n",
    "\n",
    "\n",
    "```python\n",
    "from tkinter import *\n",
    "\n",
    "# Create the main window and canvas\n",
    "tk = Tk()\n",
    "tk.resizable(False, False)  # Prevent window resizing\n",
    "tk.title(\"Pong Game\")\n",
    "canvas = Canvas(tk, width=600, height=500, bd=0, bg='ivory')\n",
    "canvas.pack() # Pack is used to display objects in the window\n",
    "canvas.update() # Needed to get the rendered canvas size \n",
    "\n",
    "# Run the main loop\n",
    "tk.mainloop()\n",
    "```"
   ]
  },
  {
   "cell_type": "markdown",
   "metadata": {},
   "source": [
    "## Step 2: Create a Stationary Ball {.hide .smaller-85}"
   ]
  },
  {
   "cell_type": "markdown",
   "metadata": {},
   "source": [
    "**Step 2**:  We define a `Ball` class to render the ball.  For now, the ball will be stationary in the middle of the canvas, 10% from the top.\n",
    "\n",
    "```python\n",
    "class Ball:\n",
    "    def __init__(self, canvas, color):\n",
    "        self.canvas = canvas\n",
    "        self.canvas_width = self.canvas.winfo_width()\n",
    "        self.canvas_height = self.canvas.winfo_height()\n",
    "        # Create an oval (ball) with size 15x15 pixels\n",
    "        self.id = canvas.create_oval(0, 0, 15, 15, fill=color)\n",
    "        # Move it to the middle of the canvas, 10% from the top\n",
    "        self.canvas.move(self.id, self.canvas_width/2, self.canvas_height*0.1)\n",
    "```"
   ]
  },
  {
   "cell_type": "markdown",
   "metadata": {},
   "source": [
    "Now we add a `Ball` instance to the canvas, do this below the canvas creation code:\n",
    "\n",
    "```{.python code-line-numbers=\"4-5\"}\n",
    "canvas.pack()\n",
    "canvas.update() # Needed to get the rendered canvas size  \n",
    "\n",
    "# Create the ball\n",
    "ball = Ball(canvas, 'red')\n",
    "\n",
    "# Run the main loop\n",
    "tk.mainloop()\n",
    "```"
   ]
  },
  {
   "cell_type": "markdown",
   "metadata": {},
   "source": [
    "## Step 3a: Ball Motion with Wall Detection {.hide .smaller-85}"
   ]
  },
  {
   "cell_type": "markdown",
   "metadata": {},
   "source": [
    "**Step 3a**: For ball motion, we start by adding horizontal and vertical speed attributes to the `init` method of the `Ball` class.\n",
    "\n",
    "```python\n",
    "# Set the initial speed of the ball\n",
    "self.xspeed = 2\n",
    "self.yspeed = -2\n",
    "```"
   ]
  },
  {
   "cell_type": "markdown",
   "metadata": {},
   "source": [
    "Next, we add a `draw` method to the `Ball` class to update the ball's position and detect collisions with the canvas walls.\n",
    "\n",
    "```python\n",
    "def draw(self):\n",
    "    # Move the ball by its speed values\n",
    "    self.canvas.move(self.id, self.xspeed, self.yspeed)\n",
    "    pos = self.canvas.coords(self.id)\n",
    "    \n",
    "    # Wall collision detection\n",
    "    if pos[1] <= 0:    # Top wall\n",
    "        self.yspeed = abs(self.yspeed)\n",
    "    if pos[3] >= self.canvas_height:  # Bottom wall\n",
    "        self.yspeed = -1*abs(self.yspeed)\n",
    "    if pos[0] <= 0:    # Left wall\n",
    "        self.xspeed = abs(self.xspeed)\n",
    "    if pos[2] >= self.canvas_width:  # Right wall\n",
    "        self.xspeed = -1*abs(self.xspeed)\n",
    "```"
   ]
  },
  {
   "cell_type": "markdown",
   "metadata": {},
   "source": [
    "## Step 3b: Animating the Ball {.hide .smaller-85}\n",
    "\n",
    "**Step 3b**: Finally, create an `animate` function that updates and redraws the ball every 10ms and call it in the main loop.  Place this below the instantiation of the `Ball` object.\n",
    "\n",
    "```{.python code-line-numbers=\"4-9\"}\n",
    "# Create the ball\n",
    "ball = Ball(canvas, 'red')\n",
    "\n",
    "# Animation loop\n",
    "def animate():\n",
    "    ball.draw()\n",
    "    tk.after(10, animate)  # Schedule next update in 10ms\n",
    "\n",
    "animate()  # Start animation\n",
    "tk.mainloop()\n",
    "```"
   ]
  },
  {
   "cell_type": "markdown",
   "metadata": {},
   "source": [
    "## Step 4: Create the Paddle {.hide .smaller-85}"
   ]
  },
  {
   "cell_type": "markdown",
   "metadata": {},
   "source": [
    "**Step 4**: Now, we’ll create the paddle, which the player will control to keep the ball in play.  The paddle will be a rectangle and only move horizontally, it will be at rest initially.\n",
    "\n",
    "```python\n",
    "class Paddle:\n",
    "    def __init__(self, canvas, color):\n",
    "        self.canvas = canvas\n",
    "        self.canvas_width = self.canvas.winfo_width()\n",
    "        self.canvas_height = self.canvas.winfo_height()\n",
    "        self.id = canvas.create_rectangle(0, 0, 100, 10, fill=color)\n",
    "        self.canvas.move(self.id, self.canvas_width/2, self.canvas_height*0.7)\n",
    "        self.xspeed = 0\n",
    "```"
   ]
  },
  {
   "cell_type": "markdown",
   "metadata": {},
   "source": [
    "Add a paddle instance to the canvas, do this **above** the ball creation code:\n",
    "\n",
    "```{.python code-line-numbers=\"1-2\"}\n",
    "# Create the paddle\n",
    "paddle = Paddle(canvas, 'blue')\n",
    "\n",
    "# Create the ball\n",
    "ball = Ball(canvas, 'red')\n",
    "```"
   ]
  },
  {
   "cell_type": "markdown",
   "metadata": {},
   "source": [
    "## Step 5a: Paddle Motion {.hide .smaller-85}"
   ]
  },
  {
   "cell_type": "markdown",
   "metadata": {},
   "source": [
    "\n",
    "**Step 5a**: We’ll now bind left and right movement to the paddle using the arrow keys on the keyboard. We need to add event handlers for key presses and releases, and methods to change the paddle speed.  Modify the `Paddle` class as follows:"
   ]
  },
  {
   "cell_type": "markdown",
   "metadata": {},
   "source": [
    "```{.python code-line-numbers=\"7-15\"}\n",
    "class Paddle:\n",
    "    def __init__(self, canvas, color):\n",
    "        self.canvas = canvas\n",
    "        self.id = canvas.create_rectangle(0, 0, 100, 10, fill=color)\n",
    "        self.canvas.move(self.id, 200, 300)\n",
    "        self.xspeed = 0\n",
    "        # Bind keyboard controls\n",
    "        self.canvas.bind_all('<KeyPress-Left>', self.move_left)\n",
    "        self.canvas.bind_all('<KeyPress-Right>', self.move_right)\n",
    "    \n",
    "    def move_left(self, evt):\n",
    "        self.xspeed = -2\n",
    "    \n",
    "    def move_right(self, evt):\n",
    "        self.xspeed = 2\n",
    "```"
   ]
  },
  {
   "cell_type": "markdown",
   "metadata": {},
   "source": [
    "## Step 5b: Animate the Paddle {.hide .smaller-85}"
   ]
  },
  {
   "cell_type": "markdown",
   "metadata": {},
   "source": [
    "**Step 5b**: Add a `draw` method to the `Paddle` class to animate the paddle.\n",
    "\n",
    "```python\n",
    "def draw(self):\n",
    "    self.canvas.move(self.id, self.xspeed, 0)\n",
    "    pos = self.canvas.coords(self.id)\n",
    "    if pos[0] <= 0:\n",
    "        self.xspeed = 0\n",
    "    if pos[2] >= self.canvas_width:\n",
    "        self.xspeed = 0\n",
    "```"
   ]
  },
  {
   "cell_type": "markdown",
   "metadata": {},
   "source": [
    "Finally, update the `animate` function to include the paddle animation.\n",
    "\n",
    "```{.python code-line-numbers=\"3\"}\n",
    "def animate():\n",
    "    ball.draw()\n",
    "    paddle.draw()\n",
    "    tk.after(10, animate)  # Schedule next update in 10ms\n",
    "```"
   ]
  },
  {
   "cell_type": "markdown",
   "metadata": {},
   "source": [
    "## Step 6a: Paddle Collision Detection {.hide .smaller-85}"
   ]
  },
  {
   "cell_type": "markdown",
   "metadata": {},
   "source": [
    "**Step 6a**: Now, we’ll modify the `Ball` class to detect collisions with the paddle. First, add the `hit_paddle` method to the `Ball` class. \n",
    "\n",
    "```python\n",
    "def hit_paddle(self, pos):\n",
    "    paddle_pos = self.canvas.coords(self.paddle.id)\n",
    "    if pos[2] >= paddle_pos[0] and pos[0] <= paddle_pos[2]:\n",
    "        if pos[3] >= paddle_pos[1] and pos[3] <= paddle_pos[3]:\n",
    "            return True\n",
    "    return False\n",
    "```"
   ]
  },
  {
   "cell_type": "markdown",
   "metadata": {},
   "source": [
    "## Step 6b: Ball Collision Movement {.hide .smaller-85}"
   ]
  },
  {
   "cell_type": "markdown",
   "metadata": {},
   "source": [
    "**Step 6b**: Next, modify the `draw` method of the `Ball` class to include paddle collision detection, and change the ball's vertical speed when it hits the paddle.\n",
    "\n",
    "\n",
    "```{.python code-line-numbers=\"16-17\"}\n",
    "def draw(self):\n",
    "    # Move the ball by its speed values\n",
    "    self.canvas.move(self.id, self.xspeed, self.yspeed)\n",
    "    pos = self.canvas.coords(self.id)\n",
    "    \n",
    "    # Wall collision detection\n",
    "    if pos[1] <= 0:    # Top wall\n",
    "        self.yspeed = abs(self.yspeed)\n",
    "    if pos[3] >= self.canvas_height:  # Bottom wall\n",
    "        self.yspeed = -1*abs(self.yspeed)\n",
    "    if pos[0] <= 0:    # Left wall\n",
    "        self.xspeed = abs(self.xspeed)\n",
    "    if pos[2] >= self.canvas_width:  # Right wall\n",
    "        self.xspeed = -1*abs(self.xspeed)\n",
    "\n",
    "    if self.hit_paddle(pos):\n",
    "        self.yspeed = -1*abs(self.yspeed)\n",
    "```"
   ]
  },
  {
   "cell_type": "markdown",
   "metadata": {},
   "source": [
    "## Step 7: Hit Bottom Wall Detection {.hide .smaller-85}"
   ]
  },
  {
   "cell_type": "markdown",
   "metadata": {},
   "source": [
    "\n",
    "**Step 7**: We need to update the collision detection to detect if the ball hits the bottom wall, indicating the game is over. Add `hit_bottom` as an attribute to the `Ball` class, initilize it to `False`.\n",
    "\n",
    "```python\n",
    "self.hit_bottom = False\n",
    "```"
   ]
  },
  {
   "cell_type": "markdown",
   "metadata": {},
   "source": [
    "Modify the `draw` method to set `hit_bottom` to `True` when the ball hits the bottom wall.\n",
    "\n",
    "```{.python code-line-numbers=\"9-10\"}\n",
    "def draw(self):\n",
    "    # Move the ball by its speed values\n",
    "    self.canvas.move(self.id, self.xspeed, self.yspeed)\n",
    "    pos = self.canvas.coords(self.id)\n",
    "    \n",
    "    # Wall collision detection\n",
    "    if pos[1] <= 0:    # Top wall\n",
    "        self.yspeed = abs(self.yspeed)\n",
    "    if pos[3] >= self.canvas_height:  # Bottom wall\n",
    "        self.hit_bottom = True\n",
    "    if pos[0] <= 0:    # Left wall\n",
    "        self.xspeed = abs(self.xspeed)\n",
    "    if pos[2] >= self.canvas_width:  # Right wall\n",
    "        self.xspeed = -1*abs(self.xspeed)\n",
    "```"
   ]
  },
  {
   "cell_type": "markdown",
   "metadata": {},
   "source": [
    "## Step 8a: Game Over Functionality {.hide .smaller-85}"
   ]
  },
  {
   "cell_type": "markdown",
   "metadata": {},
   "source": [
    "**Step 8**: Let's start by adding the functionality needed to let the user know when the game is over. We'll display a message on the canvas and allow the user to close the game by pressing the space key.\n",
    "\n",
    "```python\n",
    "def game_over():\n",
    "    canvas.create_text(\n",
    "        canvas.winfo_width()/2, canvas.winfo_height()/2,\n",
    "        text=\"GAME OVER\",\n",
    "        font=(\"Helvetica\", 30),\n",
    "        fill='red'\n",
    "    )\n",
    "    canvas.create_text(\n",
    "        canvas.winfo_width()/2, canvas.winfo_height()/2+50,\n",
    "        text=\"Press Space to quit\",\n",
    "        font=(\"Helvetica\", 20)\n",
    "    )\n",
    "    # Rebind space key to close the game\n",
    "    tk.bind('<space>', close_game)\n",
    "\n",
    "def close_game(event=None):\n",
    "    tk.destroy()\n",
    "```"
   ]
  },
  {
   "cell_type": "markdown",
   "metadata": {},
   "source": [
    "## Step 8b: Game Over {.hide .smaller-85}"
   ]
  },
  {
   "cell_type": "markdown",
   "metadata": {},
   "source": [
    "**Step 8b**: Finally, update the `animate` function to check if the `ball` hit the bottom wall and call the `game_over` function.\n",
    "\n",
    "\n",
    "\n",
    "```{.python code-line-numbers=\"4-7\"}\n",
    "def animate():\n",
    "    ball.draw()\n",
    "    paddle.draw()\n",
    "    if not ball.hit_bottom:\n",
    "        tk.after(10, animate)  # Schedule next update in 10ms\n",
    "    else:\n",
    "        game_over()\n",
    "```"
   ]
  },
  {
   "cell_type": "markdown",
   "metadata": {},
   "source": []
  }
 ],
 "metadata": {
  "language_info": {
   "name": "python"
  }
 },
 "nbformat": 4,
 "nbformat_minor": 2
}
