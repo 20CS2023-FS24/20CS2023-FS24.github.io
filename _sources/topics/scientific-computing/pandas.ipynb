{
 "cells": [
  {
   "cell_type": "markdown",
   "id": "ddf67fa2",
   "metadata": {
    "vscode": {
     "languageId": "raw"
    }
   },
   "source": [
    "# Pandas"
   ]
  },
  {
   "cell_type": "markdown",
   "id": "57855989",
   "metadata": {},
   "source": [
    "## References\n",
    "\n",
    "- [Pandas Documentation](https://pandas.pydata.org/pandas-docs/stable/index.html)"
   ]
  },
  {
   "cell_type": "markdown",
   "id": "4674695a",
   "metadata": {},
   "source": [
    "## Installation {.hide .smaller-90}\n",
    "\n",
    "You can install Pandas using `pip`:\n",
    "\n",
    "```bash\n",
    "pip install pandas\n",
    "```\n",
    "\n",
    "Or using `conda`:\n",
    "\n",
    "```bash\n",
    "conda install pandas\n",
    "```\n",
    "\n",
    "To use Pandas, you need to import the `pandas` module:\n",
    "\n",
    "```{.python}\n",
    "import pandas as pd\n",
    "```\n",
    "\n",
    ":::{.notes}\n",
    "Pandas is built on top of Numpy, if Numpy is not installed, Pandas will install it for you.\n",
    ":::"
   ]
  },
  {
   "cell_type": "markdown",
   "id": "ac9ae084",
   "metadata": {},
   "source": [
    "## What is Pandas?\n",
    "\n",
    "Pandas is a Python library that provides data structures and data analysis tools.  Pandas is derived from ‘panel’ and ‘data’, panel data is an econometrics term for data sets that include observations over multiple time periods for the same individuals.  The origins of Pandas is in the financial industry, where it was developed to provide an efficient way to work with large datasets.\n",
    "\n",
    "\n",
    "::: {.notes}\n",
    "Pandas was initially developed by Wes McKinney in 2008 while he was working at AQR Capital Management. He was trying to perform quantitative analysis on financial data using Python (which was possible to do in R  - the defacto standard in the financial industry at the time).\n",
    ":::"
   ]
  },
  {
   "cell_type": "markdown",
   "id": "2d0eadbf",
   "metadata": {},
   "source": [
    "### Tabular Data {.hide}\n",
    "\n",
    "Pandas is designed to work with tabular data.  Tabular data is data that is organized in rows and columns.  Each row represents a single observation, and each column represents a single variable.\n",
    "\n",
    "\n",
    "![](./iris-table.webp)"
   ]
  },
  {
   "cell_type": "markdown",
   "id": "b3f48da3",
   "metadata": {},
   "source": [
    "### How is Pandas different from Numpy? {.hide .smaller-80}\n",
    "\n",
    "NumPy provides the basic array data type and core array operations. Pandas builds on this foundation by defining fundamental structures for working with data. It offers methods for tasks such as:\n",
    "\n",
    " - reading data\n",
    " - handling dates and time series\n",
    " - sorting, grouping, re-ordering\n",
    " - general data manipulation, such as dealing with missing values.\n",
    "\n",
    "\n",
    "Unlike Numpy, Pandas data structures are designed to work with heterogenous data.  This means that each column in a Pandas DataFrame can have a different data type.\n",
    "\n",
    "::: {.callout-info}\n",
    "Like Pandas is built on top of NumPy, other libraries are built on top of Pandas. For example, `statsmodels` and `scikit-learn`. \n",
    ":::"
   ]
  },
  {
   "cell_type": "markdown",
   "id": "b63c267f",
   "metadata": {},
   "source": [
    "### Basic data structures in pandas {.hide .smaller-90}\n",
    "\n",
    "Pandas provides three primary data structures:\n",
    "\n",
    "- **Series**: A one-dimensional labeled array capable of holding any data type. It's best thought of as a single column of data.\n",
    "- **DataFrame**: A two-dimensional labeled data structure with columns of potentially different types. It's similar to a table in a database or an Excel spreadsheet.\n",
    "- **Index**: An immutable sequence used for indexing and alignment of the data structures, like the row labels in a DataFrame.\n",
    "\n"
   ]
  },
  {
   "cell_type": "markdown",
   "id": "28fe0edb",
   "metadata": {},
   "source": [
    "### Data Structures Visualization {.hide}\n",
    "\n",
    "Consider the following sample DataFrame - it contains both rows and columns. A series is a singular column of this DataFrame. Both the DataFrame and each Series contain an Index - a shared list of row labels.\n",
    "\n",
    "![](./data_structure.png)\n",
    "\n",
    "\n",
    "::: {.notes}\n",
    "\n",
    ":::"
   ]
  },
  {
   "cell_type": "markdown",
   "id": "e0b1e0fa",
   "metadata": {},
   "source": [
    "## Series {.hide .smaller-70}\n",
    "\n",
    "A `Series` represents a column of a `DataFrame`.  It is a one-dimensional array-like object containing values, with associated data labels called its index.  If you don't specify an index, a default sequence of integers is assigned as the index."
   ]
  },
  {
   "cell_type": "code",
   "execution_count": 40,
   "id": "9dfc3ed0",
   "metadata": {},
   "outputs": [],
   "source": [
    "#| echo: false\n",
    "import pandas as pd\n",
    "import numpy as np"
   ]
  },
  {
   "cell_type": "code",
   "execution_count": 41,
   "id": "6b80c59d",
   "metadata": {},
   "outputs": [
    {
     "name": "stdout",
     "output_type": "stream",
     "text": [
      "0    0.25\n",
      "1    0.50\n",
      "2    0.75\n",
      "3    1.00\n",
      "dtype: float64\n"
     ]
    }
   ],
   "source": [
    "s = pd.Series([0.25, 0.5, 0.75, 1.0])\n",
    "print(s)"
   ]
  },
  {
   "cell_type": "markdown",
   "id": "89d847a0",
   "metadata": {},
   "source": [
    "You can create a series with your own index:"
   ]
  },
  {
   "cell_type": "code",
   "execution_count": 42,
   "id": "55d4e78e",
   "metadata": {},
   "outputs": [
    {
     "name": "stdout",
     "output_type": "stream",
     "text": [
      "a    0.25\n",
      "b    0.50\n",
      "c    0.75\n",
      "d    1.00\n",
      "dtype: float64\n"
     ]
    }
   ],
   "source": [
    "s = pd.Series([0.25, 0.5, 0.75, 1.0],\n",
    "               index=['a', 'b', 'c', 'd'])\n",
    "\n",
    "print(s)"
   ]
  },
  {
   "cell_type": "markdown",
   "id": "34b28707",
   "metadata": {},
   "source": [
    "### Numpy-like Operations {.hide .smaller-70}\n",
    "\n",
    "Pandas Series are built on top of NumPy arrays and support many similar operations.\n"
   ]
  },
  {
   "cell_type": "code",
   "execution_count": 43,
   "id": "e89f4006",
   "metadata": {},
   "outputs": [
    {
     "data": {
      "text/plain": [
       "0    0.538393\n",
       "1    0.126123\n",
       "2   -1.105116\n",
       "3   -2.644618\n",
       "Name: daily returns, dtype: float64"
      ]
     },
     "execution_count": 43,
     "metadata": {},
     "output_type": "execute_result"
    }
   ],
   "source": [
    "s = pd.Series(np.random.randn(4), name='daily returns')\n",
    "s"
   ]
  },
  {
   "cell_type": "code",
   "execution_count": 44,
   "id": "30ffce55",
   "metadata": {},
   "outputs": [
    {
     "data": {
      "text/plain": [
       "0     53.839252\n",
       "1     12.612294\n",
       "2   -110.511625\n",
       "3   -264.461801\n",
       "Name: daily returns, dtype: float64"
      ]
     },
     "execution_count": 44,
     "metadata": {},
     "output_type": "execute_result"
    }
   ],
   "source": [
    "s * 100"
   ]
  },
  {
   "cell_type": "code",
   "execution_count": 45,
   "id": "6304a798",
   "metadata": {},
   "outputs": [
    {
     "data": {
      "text/plain": [
       "0    0.538393\n",
       "1    0.126123\n",
       "2    1.105116\n",
       "3    2.644618\n",
       "Name: daily returns, dtype: float64"
      ]
     },
     "execution_count": 45,
     "metadata": {},
     "output_type": "execute_result"
    }
   ],
   "source": [
    "np.abs(s)"
   ]
  },
  {
   "cell_type": "markdown",
   "id": "a652e0ab",
   "metadata": {},
   "source": [
    "### More than NumPy Arrays {.hide .smaller-60}\n",
    "\n",
    "A pandas Series is a hybrid between a NumPy array and a dictionary: it combines NumPy's efficient numerical operations with dictionary-style labeled indexing, while adding specialized statistical methods and more flexible indexing options designed specifically for data analysis."
   ]
  },
  {
   "cell_type": "code",
   "execution_count": 46,
   "id": "b3718ff5",
   "metadata": {},
   "outputs": [
    {
     "data": {
      "text/plain": [
       "count    4.000000\n",
       "mean    -0.771305\n",
       "std      1.430783\n",
       "min     -2.644618\n",
       "25%     -1.489992\n",
       "50%     -0.489497\n",
       "75%      0.229190\n",
       "max      0.538393\n",
       "Name: daily returns, dtype: float64"
      ]
     },
     "execution_count": 46,
     "metadata": {},
     "output_type": "execute_result"
    }
   ],
   "source": [
    "s.describe()"
   ]
  },
  {
   "cell_type": "code",
   "execution_count": 47,
   "id": "34002893",
   "metadata": {},
   "outputs": [
    {
     "data": {
      "text/plain": [
       "AMZN    0.538393\n",
       "AAPL    0.126123\n",
       "MSFT   -1.105116\n",
       "GOOG   -2.644618\n",
       "Name: daily returns, dtype: float64"
      ]
     },
     "execution_count": 47,
     "metadata": {},
     "output_type": "execute_result"
    }
   ],
   "source": [
    "s.index = ['AMZN', 'AAPL', 'MSFT', 'GOOG']\n",
    "s"
   ]
  },
  {
   "cell_type": "code",
   "execution_count": 48,
   "id": "6408ee4d",
   "metadata": {},
   "outputs": [
    {
     "data": {
      "text/plain": [
       "np.float64(0.5383925233649043)"
      ]
     },
     "execution_count": 48,
     "metadata": {},
     "output_type": "execute_result"
    }
   ],
   "source": [
    "s['AMZN']"
   ]
  },
  {
   "cell_type": "code",
   "execution_count": 49,
   "id": "1d0c20ab",
   "metadata": {},
   "outputs": [
    {
     "data": {
      "text/plain": [
       "True"
      ]
     },
     "execution_count": 49,
     "metadata": {},
     "output_type": "execute_result"
    }
   ],
   "source": [
    "'AAPL' in s"
   ]
  },
  {
   "cell_type": "markdown",
   "id": "c8f10dcd",
   "metadata": {},
   "source": [
    "### Filtering {.hide .smaller-80}\n",
    "\n",
    "You can filter a Series using boolean indexing.  Boolean indexing (also called boolean masking or boolean filtering) returns values from the Series where the condition is True, while filtering out False values."
   ]
  },
  {
   "cell_type": "code",
   "execution_count": 50,
   "id": "8d3f390e",
   "metadata": {},
   "outputs": [
    {
     "data": {
      "text/plain": [
       "AMZN     True\n",
       "AAPL     True\n",
       "MSFT    False\n",
       "GOOG    False\n",
       "Name: daily returns, dtype: bool"
      ]
     },
     "execution_count": 50,
     "metadata": {},
     "output_type": "execute_result"
    }
   ],
   "source": [
    "s > 0 # Filter condition to select all elements greater than 0"
   ]
  },
  {
   "cell_type": "markdown",
   "id": "4326518b",
   "metadata": {},
   "source": [
    "Use the Boolean index with square brackets `[]` to filter the Series:"
   ]
  },
  {
   "cell_type": "code",
   "execution_count": 51,
   "id": "8db1e6cc",
   "metadata": {},
   "outputs": [
    {
     "data": {
      "text/plain": [
       "AMZN    0.538393\n",
       "AAPL    0.126123\n",
       "Name: daily returns, dtype: float64"
      ]
     },
     "execution_count": 51,
     "metadata": {},
     "output_type": "execute_result"
    }
   ],
   "source": [
    "s[s > 0] # Select all elements greater than 0"
   ]
  },
  {
   "cell_type": "markdown",
   "id": "c63212a4",
   "metadata": {},
   "source": [
    "## DataFrames {.hide .smaller-70}\n",
    "\n",
    "A DataFrame is several columns, one for each variable, it is analogous to a (highly optimized) Excel spreadsheet. You can create a DataFrame by passing a dictionary of lists to the DataFrame constructor.\n"
   ]
  },
  {
   "cell_type": "code",
   "execution_count": 52,
   "id": "de1a7e34",
   "metadata": {},
   "outputs": [
    {
     "data": {
      "text/html": [
       "<div>\n",
       "<style scoped>\n",
       "    .dataframe tbody tr th:only-of-type {\n",
       "        vertical-align: middle;\n",
       "    }\n",
       "\n",
       "    .dataframe tbody tr th {\n",
       "        vertical-align: top;\n",
       "    }\n",
       "\n",
       "    .dataframe thead th {\n",
       "        text-align: right;\n",
       "    }\n",
       "</style>\n",
       "<table border=\"1\" class=\"dataframe\">\n",
       "  <thead>\n",
       "    <tr style=\"text-align: right;\">\n",
       "      <th></th>\n",
       "      <th>name</th>\n",
       "      <th>age</th>\n",
       "      <th>city</th>\n",
       "    </tr>\n",
       "  </thead>\n",
       "  <tbody>\n",
       "    <tr>\n",
       "      <th>0</th>\n",
       "      <td>John</td>\n",
       "      <td>24</td>\n",
       "      <td>New York</td>\n",
       "    </tr>\n",
       "    <tr>\n",
       "      <th>1</th>\n",
       "      <td>Anna</td>\n",
       "      <td>13</td>\n",
       "      <td>Paris</td>\n",
       "    </tr>\n",
       "    <tr>\n",
       "      <th>2</th>\n",
       "      <td>Peter</td>\n",
       "      <td>53</td>\n",
       "      <td>Berlin</td>\n",
       "    </tr>\n",
       "    <tr>\n",
       "      <th>3</th>\n",
       "      <td>Linda</td>\n",
       "      <td>33</td>\n",
       "      <td>London</td>\n",
       "    </tr>\n",
       "  </tbody>\n",
       "</table>\n",
       "</div>"
      ],
      "text/plain": [
       "    name  age      city\n",
       "0   John   24  New York\n",
       "1   Anna   13     Paris\n",
       "2  Peter   53    Berlin\n",
       "3  Linda   33    London"
      ]
     },
     "execution_count": 52,
     "metadata": {},
     "output_type": "execute_result"
    }
   ],
   "source": [
    "data = {\n",
    "    'name': ['John', 'Anna', 'Peter', 'Linda'],\n",
    "    'age': [24, 13, 53, 33],\n",
    "    'city': ['New York', 'Paris', 'Berlin', 'London']\n",
    "}\n",
    "df = pd.DataFrame(data)\n",
    "df"
   ]
  },
  {
   "cell_type": "markdown",
   "id": "10dd1f7b",
   "metadata": {},
   "source": [
    "### Creating DataFrames {.hide .smaller-60}\n",
    "\n",
    "There are several common ways to create a DataFrame, such as:\n",
    "\n",
    "- **From a dictionary** (as shown previously)\n",
    "- **From a list** with specified column names\n",
    "- **From multiple Series**\n",
    "- **From an external file** (e.g., CSV, Excel)\"\n"
   ]
  },
  {
   "cell_type": "code",
   "execution_count": 53,
   "id": "f904c1c4",
   "metadata": {},
   "outputs": [
    {
     "data": {
      "text/html": [
       "<div>\n",
       "<style scoped>\n",
       "    .dataframe tbody tr th:only-of-type {\n",
       "        vertical-align: middle;\n",
       "    }\n",
       "\n",
       "    .dataframe tbody tr th {\n",
       "        vertical-align: top;\n",
       "    }\n",
       "\n",
       "    .dataframe thead th {\n",
       "        text-align: right;\n",
       "    }\n",
       "</style>\n",
       "<table border=\"1\" class=\"dataframe\">\n",
       "  <thead>\n",
       "    <tr style=\"text-align: right;\">\n",
       "      <th></th>\n",
       "      <th>Numbers</th>\n",
       "    </tr>\n",
       "  </thead>\n",
       "  <tbody>\n",
       "    <tr>\n",
       "      <th>0</th>\n",
       "      <td>1</td>\n",
       "    </tr>\n",
       "    <tr>\n",
       "      <th>1</th>\n",
       "      <td>2</td>\n",
       "    </tr>\n",
       "    <tr>\n",
       "      <th>2</th>\n",
       "      <td>3</td>\n",
       "    </tr>\n",
       "  </tbody>\n",
       "</table>\n",
       "</div>"
      ],
      "text/plain": [
       "   Numbers\n",
       "0        1\n",
       "1        2\n",
       "2        3"
      ]
     },
     "execution_count": 53,
     "metadata": {},
     "output_type": "execute_result"
    }
   ],
   "source": [
    "df = pd.DataFrame([1, 2, 3], columns=[\"Numbers\"])\n",
    "df"
   ]
  },
  {
   "cell_type": "code",
   "execution_count": 54,
   "id": "2dd20194",
   "metadata": {},
   "outputs": [
    {
     "data": {
      "text/html": [
       "<div>\n",
       "<style scoped>\n",
       "    .dataframe tbody tr th:only-of-type {\n",
       "        vertical-align: middle;\n",
       "    }\n",
       "\n",
       "    .dataframe tbody tr th {\n",
       "        vertical-align: top;\n",
       "    }\n",
       "\n",
       "    .dataframe thead th {\n",
       "        text-align: right;\n",
       "    }\n",
       "</style>\n",
       "<table border=\"1\" class=\"dataframe\">\n",
       "  <thead>\n",
       "    <tr style=\"text-align: right;\">\n",
       "      <th></th>\n",
       "      <th>Number</th>\n",
       "      <th>Description</th>\n",
       "    </tr>\n",
       "  </thead>\n",
       "  <tbody>\n",
       "    <tr>\n",
       "      <th>0</th>\n",
       "      <td>1</td>\n",
       "      <td>one</td>\n",
       "    </tr>\n",
       "    <tr>\n",
       "      <th>1</th>\n",
       "      <td>2</td>\n",
       "      <td>two</td>\n",
       "    </tr>\n",
       "  </tbody>\n",
       "</table>\n",
       "</div>"
      ],
      "text/plain": [
       "   Number Description\n",
       "0       1         one\n",
       "1       2         two"
      ]
     },
     "execution_count": 54,
     "metadata": {},
     "output_type": "execute_result"
    }
   ],
   "source": [
    "df = pd.DataFrame([[1, \"one\"], [2, \"two\"]], columns = [\"Number\", \"Description\"])\n",
    "df"
   ]
  },
  {
   "cell_type": "code",
   "execution_count": 55,
   "id": "24aa168e",
   "metadata": {},
   "outputs": [
    {
     "data": {
      "text/html": [
       "<div>\n",
       "<style scoped>\n",
       "    .dataframe tbody tr th:only-of-type {\n",
       "        vertical-align: middle;\n",
       "    }\n",
       "\n",
       "    .dataframe tbody tr th {\n",
       "        vertical-align: top;\n",
       "    }\n",
       "\n",
       "    .dataframe thead th {\n",
       "        text-align: right;\n",
       "    }\n",
       "</style>\n",
       "<table border=\"1\" class=\"dataframe\">\n",
       "  <thead>\n",
       "    <tr style=\"text-align: right;\">\n",
       "      <th></th>\n",
       "      <th>A-column</th>\n",
       "      <th>B-column</th>\n",
       "    </tr>\n",
       "  </thead>\n",
       "  <tbody>\n",
       "    <tr>\n",
       "      <th>r1</th>\n",
       "      <td>a1</td>\n",
       "      <td>b1</td>\n",
       "    </tr>\n",
       "    <tr>\n",
       "      <th>r2</th>\n",
       "      <td>a2</td>\n",
       "      <td>b2</td>\n",
       "    </tr>\n",
       "    <tr>\n",
       "      <th>r3</th>\n",
       "      <td>a3</td>\n",
       "      <td>b3</td>\n",
       "    </tr>\n",
       "  </tbody>\n",
       "</table>\n",
       "</div>"
      ],
      "text/plain": [
       "   A-column B-column\n",
       "r1       a1       b1\n",
       "r2       a2       b2\n",
       "r3       a3       b3"
      ]
     },
     "execution_count": 55,
     "metadata": {},
     "output_type": "execute_result"
    }
   ],
   "source": [
    "sA = pd.Series([\"a1\", \"a2\", \"a3\"], index = [\"r1\", \"r2\", \"r3\"])\n",
    "sB = pd.Series([\"b1\", \"b2\", \"b3\"], index = [\"r1\", \"r2\", \"r3\"])\n",
    "\n",
    "df = pd.DataFrame({\"A-column\": sA, \"B-column\": sB})\n",
    "df"
   ]
  },
  {
   "cell_type": "markdown",
   "id": "64a97362",
   "metadata": {},
   "source": [
    "### Index Alignment {.hide .smaller-90}\n",
    "\n",
    "Pandas aligns rows by matching index labels across Series to create a unified DataFrame."
   ]
  },
  {
   "cell_type": "code",
   "execution_count": 56,
   "id": "e5ac6899",
   "metadata": {},
   "outputs": [
    {
     "data": {
      "text/html": [
       "<div>\n",
       "<style scoped>\n",
       "    .dataframe tbody tr th:only-of-type {\n",
       "        vertical-align: middle;\n",
       "    }\n",
       "\n",
       "    .dataframe tbody tr th {\n",
       "        vertical-align: top;\n",
       "    }\n",
       "\n",
       "    .dataframe thead th {\n",
       "        text-align: right;\n",
       "    }\n",
       "</style>\n",
       "<table border=\"1\" class=\"dataframe\">\n",
       "  <thead>\n",
       "    <tr style=\"text-align: right;\">\n",
       "      <th></th>\n",
       "      <th>A-column</th>\n",
       "      <th>B-column</th>\n",
       "    </tr>\n",
       "  </thead>\n",
       "  <tbody>\n",
       "    <tr>\n",
       "      <th>r0</th>\n",
       "      <td>NaN</td>\n",
       "      <td>b1</td>\n",
       "    </tr>\n",
       "    <tr>\n",
       "      <th>r1</th>\n",
       "      <td>a1</td>\n",
       "      <td>NaN</td>\n",
       "    </tr>\n",
       "    <tr>\n",
       "      <th>r2</th>\n",
       "      <td>a2</td>\n",
       "      <td>b2</td>\n",
       "    </tr>\n",
       "    <tr>\n",
       "      <th>r3</th>\n",
       "      <td>a3</td>\n",
       "      <td>b3</td>\n",
       "    </tr>\n",
       "  </tbody>\n",
       "</table>\n",
       "</div>"
      ],
      "text/plain": [
       "   A-column B-column\n",
       "r0      NaN       b1\n",
       "r1       a1      NaN\n",
       "r2       a2       b2\n",
       "r3       a3       b3"
      ]
     },
     "execution_count": 56,
     "metadata": {},
     "output_type": "execute_result"
    }
   ],
   "source": [
    "sA = pd.Series([\"a1\", \"a2\", \"a3\"], index = [\"r1\", \"r2\", \"r3\"])\n",
    "sB = pd.Series([\"b1\", \"b2\", \"b3\"], index = [\"r0\", \"r2\", \"r3\"])\n",
    "\n",
    "df = pd.DataFrame({\"A-column\": sA, \"B-column\": sB})\n",
    "df"
   ]
  },
  {
   "cell_type": "markdown",
   "id": "facd5a30",
   "metadata": {},
   "source": [
    "### Reading a CSV File {.hide .smaller-70}\n",
    "\n",
    "You can read data from a CSV file using the `read_csv` function.  The `read_csv` function returns a DataFrame.  The `read_csv` function supports file paths, URLs, and file-like objects."
   ]
  },
  {
   "cell_type": "code",
   "execution_count": 57,
   "id": "5253da0c",
   "metadata": {},
   "outputs": [
    {
     "data": {
      "text/plain": [
       "pandas.core.frame.DataFrame"
      ]
     },
     "execution_count": 57,
     "metadata": {},
     "output_type": "execute_result"
    }
   ],
   "source": [
    "df = pd.read_csv('https://raw.githubusercontent.com/pandas-dev/pandas/refs/heads/main/doc/data/air_quality_long.csv')\n",
    "type(df)"
   ]
  },
  {
   "cell_type": "markdown",
   "id": "a38c5878",
   "metadata": {},
   "source": [
    "### Slicing {.hide .smaller-65}\n",
    "\n",
    "We can select particular rows using standard Python array slicing notation.  We can also select columns by passing a list of column names to the DataFrame."
   ]
  },
  {
   "cell_type": "code",
   "execution_count": 58,
   "id": "fce13570",
   "metadata": {},
   "outputs": [
    {
     "data": {
      "text/html": [
       "<div>\n",
       "<style scoped>\n",
       "    .dataframe tbody tr th:only-of-type {\n",
       "        vertical-align: middle;\n",
       "    }\n",
       "\n",
       "    .dataframe tbody tr th {\n",
       "        vertical-align: top;\n",
       "    }\n",
       "\n",
       "    .dataframe thead th {\n",
       "        text-align: right;\n",
       "    }\n",
       "</style>\n",
       "<table border=\"1\" class=\"dataframe\">\n",
       "  <thead>\n",
       "    <tr style=\"text-align: right;\">\n",
       "      <th></th>\n",
       "      <th>city</th>\n",
       "      <th>country</th>\n",
       "      <th>date.utc</th>\n",
       "      <th>location</th>\n",
       "      <th>parameter</th>\n",
       "      <th>value</th>\n",
       "      <th>unit</th>\n",
       "    </tr>\n",
       "  </thead>\n",
       "  <tbody>\n",
       "    <tr>\n",
       "      <th>2</th>\n",
       "      <td>Antwerpen</td>\n",
       "      <td>BE</td>\n",
       "      <td>2019-06-17 07:00:00+00:00</td>\n",
       "      <td>BETR801</td>\n",
       "      <td>pm25</td>\n",
       "      <td>18.5</td>\n",
       "      <td>µg/m³</td>\n",
       "    </tr>\n",
       "    <tr>\n",
       "      <th>3</th>\n",
       "      <td>Antwerpen</td>\n",
       "      <td>BE</td>\n",
       "      <td>2019-06-17 06:00:00+00:00</td>\n",
       "      <td>BETR801</td>\n",
       "      <td>pm25</td>\n",
       "      <td>16.0</td>\n",
       "      <td>µg/m³</td>\n",
       "    </tr>\n",
       "    <tr>\n",
       "      <th>4</th>\n",
       "      <td>Antwerpen</td>\n",
       "      <td>BE</td>\n",
       "      <td>2019-06-17 05:00:00+00:00</td>\n",
       "      <td>BETR801</td>\n",
       "      <td>pm25</td>\n",
       "      <td>7.5</td>\n",
       "      <td>µg/m³</td>\n",
       "    </tr>\n",
       "  </tbody>\n",
       "</table>\n",
       "</div>"
      ],
      "text/plain": [
       "        city country                   date.utc location parameter  value  \\\n",
       "2  Antwerpen      BE  2019-06-17 07:00:00+00:00  BETR801      pm25   18.5   \n",
       "3  Antwerpen      BE  2019-06-17 06:00:00+00:00  BETR801      pm25   16.0   \n",
       "4  Antwerpen      BE  2019-06-17 05:00:00+00:00  BETR801      pm25    7.5   \n",
       "\n",
       "    unit  \n",
       "2  µg/m³  \n",
       "3  µg/m³  \n",
       "4  µg/m³  "
      ]
     },
     "execution_count": 58,
     "metadata": {},
     "output_type": "execute_result"
    }
   ],
   "source": [
    "df[2:5]"
   ]
  },
  {
   "cell_type": "code",
   "execution_count": 59,
   "id": "d9db460a",
   "metadata": {},
   "outputs": [
    {
     "data": {
      "text/html": [
       "<div>\n",
       "<style scoped>\n",
       "    .dataframe tbody tr th:only-of-type {\n",
       "        vertical-align: middle;\n",
       "    }\n",
       "\n",
       "    .dataframe tbody tr th {\n",
       "        vertical-align: top;\n",
       "    }\n",
       "\n",
       "    .dataframe thead th {\n",
       "        text-align: right;\n",
       "    }\n",
       "</style>\n",
       "<table border=\"1\" class=\"dataframe\">\n",
       "  <thead>\n",
       "    <tr style=\"text-align: right;\">\n",
       "      <th></th>\n",
       "      <th>country</th>\n",
       "      <th>location</th>\n",
       "    </tr>\n",
       "  </thead>\n",
       "  <tbody>\n",
       "    <tr>\n",
       "      <th>0</th>\n",
       "      <td>BE</td>\n",
       "      <td>BETR801</td>\n",
       "    </tr>\n",
       "    <tr>\n",
       "      <th>1</th>\n",
       "      <td>BE</td>\n",
       "      <td>BETR801</td>\n",
       "    </tr>\n",
       "    <tr>\n",
       "      <th>2</th>\n",
       "      <td>BE</td>\n",
       "      <td>BETR801</td>\n",
       "    </tr>\n",
       "    <tr>\n",
       "      <th>3</th>\n",
       "      <td>BE</td>\n",
       "      <td>BETR801</td>\n",
       "    </tr>\n",
       "    <tr>\n",
       "      <th>4</th>\n",
       "      <td>BE</td>\n",
       "      <td>BETR801</td>\n",
       "    </tr>\n",
       "    <tr>\n",
       "      <th>...</th>\n",
       "      <td>...</td>\n",
       "      <td>...</td>\n",
       "    </tr>\n",
       "    <tr>\n",
       "      <th>5267</th>\n",
       "      <td>GB</td>\n",
       "      <td>London Westminster</td>\n",
       "    </tr>\n",
       "    <tr>\n",
       "      <th>5268</th>\n",
       "      <td>GB</td>\n",
       "      <td>London Westminster</td>\n",
       "    </tr>\n",
       "    <tr>\n",
       "      <th>5269</th>\n",
       "      <td>GB</td>\n",
       "      <td>London Westminster</td>\n",
       "    </tr>\n",
       "    <tr>\n",
       "      <th>5270</th>\n",
       "      <td>GB</td>\n",
       "      <td>London Westminster</td>\n",
       "    </tr>\n",
       "    <tr>\n",
       "      <th>5271</th>\n",
       "      <td>GB</td>\n",
       "      <td>London Westminster</td>\n",
       "    </tr>\n",
       "  </tbody>\n",
       "</table>\n",
       "<p>5272 rows × 2 columns</p>\n",
       "</div>"
      ],
      "text/plain": [
       "     country            location\n",
       "0         BE             BETR801\n",
       "1         BE             BETR801\n",
       "2         BE             BETR801\n",
       "3         BE             BETR801\n",
       "4         BE             BETR801\n",
       "...      ...                 ...\n",
       "5267      GB  London Westminster\n",
       "5268      GB  London Westminster\n",
       "5269      GB  London Westminster\n",
       "5270      GB  London Westminster\n",
       "5271      GB  London Westminster\n",
       "\n",
       "[5272 rows x 2 columns]"
      ]
     },
     "execution_count": 59,
     "metadata": {},
     "output_type": "execute_result"
    }
   ],
   "source": [
    "df[['country', 'location']]"
   ]
  },
  {
   "cell_type": "markdown",
   "id": "8a4a5c8c",
   "metadata": {},
   "source": [
    "### Slicing: `loc` and `iloc` {.hide .smaller-65}\n",
    "\n",
    "You can select data using the `loc` and `iloc` methods.  The `loc` method selects data by label, while the `iloc` method selects data by integer location. You can use these methods to select rows and columns simultaneously."
   ]
  },
  {
   "cell_type": "code",
   "execution_count": 60,
   "id": "9bb25669",
   "metadata": {},
   "outputs": [
    {
     "data": {
      "text/html": [
       "<div>\n",
       "<style scoped>\n",
       "    .dataframe tbody tr th:only-of-type {\n",
       "        vertical-align: middle;\n",
       "    }\n",
       "\n",
       "    .dataframe tbody tr th {\n",
       "        vertical-align: top;\n",
       "    }\n",
       "\n",
       "    .dataframe thead th {\n",
       "        text-align: right;\n",
       "    }\n",
       "</style>\n",
       "<table border=\"1\" class=\"dataframe\">\n",
       "  <thead>\n",
       "    <tr style=\"text-align: right;\">\n",
       "      <th></th>\n",
       "      <th>city</th>\n",
       "      <th>country</th>\n",
       "      <th>date.utc</th>\n",
       "    </tr>\n",
       "  </thead>\n",
       "  <tbody>\n",
       "    <tr>\n",
       "      <th>2</th>\n",
       "      <td>Antwerpen</td>\n",
       "      <td>BE</td>\n",
       "      <td>2019-06-17 07:00:00+00:00</td>\n",
       "    </tr>\n",
       "    <tr>\n",
       "      <th>3</th>\n",
       "      <td>Antwerpen</td>\n",
       "      <td>BE</td>\n",
       "      <td>2019-06-17 06:00:00+00:00</td>\n",
       "    </tr>\n",
       "    <tr>\n",
       "      <th>4</th>\n",
       "      <td>Antwerpen</td>\n",
       "      <td>BE</td>\n",
       "      <td>2019-06-17 05:00:00+00:00</td>\n",
       "    </tr>\n",
       "  </tbody>\n",
       "</table>\n",
       "</div>"
      ],
      "text/plain": [
       "        city country                   date.utc\n",
       "2  Antwerpen      BE  2019-06-17 07:00:00+00:00\n",
       "3  Antwerpen      BE  2019-06-17 06:00:00+00:00\n",
       "4  Antwerpen      BE  2019-06-17 05:00:00+00:00"
      ]
     },
     "execution_count": 60,
     "metadata": {},
     "output_type": "execute_result"
    }
   ],
   "source": [
    "df.iloc[2:5, 0:3]"
   ]
  },
  {
   "cell_type": "code",
   "execution_count": 61,
   "id": "aeae0f51",
   "metadata": {},
   "outputs": [
    {
     "data": {
      "text/html": [
       "<div>\n",
       "<style scoped>\n",
       "    .dataframe tbody tr th:only-of-type {\n",
       "        vertical-align: middle;\n",
       "    }\n",
       "\n",
       "    .dataframe tbody tr th {\n",
       "        vertical-align: top;\n",
       "    }\n",
       "\n",
       "    .dataframe thead th {\n",
       "        text-align: right;\n",
       "    }\n",
       "</style>\n",
       "<table border=\"1\" class=\"dataframe\">\n",
       "  <thead>\n",
       "    <tr style=\"text-align: right;\">\n",
       "      <th></th>\n",
       "      <th>country</th>\n",
       "      <th>location</th>\n",
       "    </tr>\n",
       "  </thead>\n",
       "  <tbody>\n",
       "    <tr>\n",
       "      <th>0</th>\n",
       "      <td>BE</td>\n",
       "      <td>BETR801</td>\n",
       "    </tr>\n",
       "    <tr>\n",
       "      <th>1</th>\n",
       "      <td>BE</td>\n",
       "      <td>BETR801</td>\n",
       "    </tr>\n",
       "    <tr>\n",
       "      <th>2</th>\n",
       "      <td>BE</td>\n",
       "      <td>BETR801</td>\n",
       "    </tr>\n",
       "  </tbody>\n",
       "</table>\n",
       "</div>"
      ],
      "text/plain": [
       "  country location\n",
       "0      BE  BETR801\n",
       "1      BE  BETR801\n",
       "2      BE  BETR801"
      ]
     },
     "execution_count": 61,
     "metadata": {},
     "output_type": "execute_result"
    }
   ],
   "source": [
    "df.loc[df.index[0:3], ['country', 'location']]"
   ]
  },
  {
   "cell_type": "markdown",
   "id": "6b977887",
   "metadata": {},
   "source": [
    "### Filtering {.hide .smaller-65}\n",
    "\n",
    "Like a Series, you can filter a DataFrame using boolean indexing.  Boolean indexing (also called boolean masking or boolean filtering) returns values from the DataFrame where the condition is True, while filtering out False values."
   ]
  },
  {
   "cell_type": "code",
   "execution_count": 62,
   "id": "d5f402d9",
   "metadata": {},
   "outputs": [
    {
     "data": {
      "text/html": [
       "<div>\n",
       "<style scoped>\n",
       "    .dataframe tbody tr th:only-of-type {\n",
       "        vertical-align: middle;\n",
       "    }\n",
       "\n",
       "    .dataframe tbody tr th {\n",
       "        vertical-align: top;\n",
       "    }\n",
       "\n",
       "    .dataframe thead th {\n",
       "        text-align: right;\n",
       "    }\n",
       "</style>\n",
       "<table border=\"1\" class=\"dataframe\">\n",
       "  <thead>\n",
       "    <tr style=\"text-align: right;\">\n",
       "      <th></th>\n",
       "      <th>city</th>\n",
       "      <th>country</th>\n",
       "      <th>date.utc</th>\n",
       "      <th>location</th>\n",
       "      <th>parameter</th>\n",
       "      <th>value</th>\n",
       "      <th>unit</th>\n",
       "    </tr>\n",
       "  </thead>\n",
       "  <tbody>\n",
       "    <tr>\n",
       "      <th>1825</th>\n",
       "      <td>Paris</td>\n",
       "      <td>FR</td>\n",
       "      <td>2019-06-21 00:00:00+00:00</td>\n",
       "      <td>FR04014</td>\n",
       "      <td>no2</td>\n",
       "      <td>20.0</td>\n",
       "      <td>µg/m³</td>\n",
       "    </tr>\n",
       "    <tr>\n",
       "      <th>1826</th>\n",
       "      <td>Paris</td>\n",
       "      <td>FR</td>\n",
       "      <td>2019-06-20 23:00:00+00:00</td>\n",
       "      <td>FR04014</td>\n",
       "      <td>no2</td>\n",
       "      <td>21.8</td>\n",
       "      <td>µg/m³</td>\n",
       "    </tr>\n",
       "    <tr>\n",
       "      <th>1827</th>\n",
       "      <td>Paris</td>\n",
       "      <td>FR</td>\n",
       "      <td>2019-06-20 22:00:00+00:00</td>\n",
       "      <td>FR04014</td>\n",
       "      <td>no2</td>\n",
       "      <td>26.5</td>\n",
       "      <td>µg/m³</td>\n",
       "    </tr>\n",
       "  </tbody>\n",
       "</table>\n",
       "</div>"
      ],
      "text/plain": [
       "       city country                   date.utc location parameter  value  \\\n",
       "1825  Paris      FR  2019-06-21 00:00:00+00:00  FR04014       no2   20.0   \n",
       "1826  Paris      FR  2019-06-20 23:00:00+00:00  FR04014       no2   21.8   \n",
       "1827  Paris      FR  2019-06-20 22:00:00+00:00  FR04014       no2   26.5   \n",
       "\n",
       "       unit  \n",
       "1825  µg/m³  \n",
       "1826  µg/m³  \n",
       "1827  µg/m³  "
      ]
     },
     "execution_count": 62,
     "metadata": {},
     "output_type": "execute_result"
    }
   ],
   "source": [
    "df[df.country == 'FR'].head(3)"
   ]
  },
  {
   "cell_type": "code",
   "execution_count": 63,
   "id": "43252357",
   "metadata": {},
   "outputs": [
    {
     "data": {
      "text/html": [
       "<div>\n",
       "<style scoped>\n",
       "    .dataframe tbody tr th:only-of-type {\n",
       "        vertical-align: middle;\n",
       "    }\n",
       "\n",
       "    .dataframe tbody tr th {\n",
       "        vertical-align: top;\n",
       "    }\n",
       "\n",
       "    .dataframe thead th {\n",
       "        text-align: right;\n",
       "    }\n",
       "</style>\n",
       "<table border=\"1\" class=\"dataframe\">\n",
       "  <thead>\n",
       "    <tr style=\"text-align: right;\">\n",
       "      <th></th>\n",
       "      <th>city</th>\n",
       "      <th>country</th>\n",
       "      <th>date.utc</th>\n",
       "      <th>location</th>\n",
       "      <th>parameter</th>\n",
       "      <th>value</th>\n",
       "      <th>unit</th>\n",
       "    </tr>\n",
       "  </thead>\n",
       "  <tbody>\n",
       "    <tr>\n",
       "      <th>2441</th>\n",
       "      <td>Paris</td>\n",
       "      <td>FR</td>\n",
       "      <td>2019-05-23 08:00:00+00:00</td>\n",
       "      <td>FR04014</td>\n",
       "      <td>no2</td>\n",
       "      <td>97.0</td>\n",
       "      <td>µg/m³</td>\n",
       "    </tr>\n",
       "    <tr>\n",
       "      <th>2442</th>\n",
       "      <td>Paris</td>\n",
       "      <td>FR</td>\n",
       "      <td>2019-05-23 07:00:00+00:00</td>\n",
       "      <td>FR04014</td>\n",
       "      <td>no2</td>\n",
       "      <td>91.8</td>\n",
       "      <td>µg/m³</td>\n",
       "    </tr>\n",
       "    <tr>\n",
       "      <th>3188</th>\n",
       "      <td>Paris</td>\n",
       "      <td>FR</td>\n",
       "      <td>2019-04-22 01:00:00+00:00</td>\n",
       "      <td>FR04014</td>\n",
       "      <td>no2</td>\n",
       "      <td>99.0</td>\n",
       "      <td>µg/m³</td>\n",
       "    </tr>\n",
       "  </tbody>\n",
       "</table>\n",
       "</div>"
      ],
      "text/plain": [
       "       city country                   date.utc location parameter  value  \\\n",
       "2441  Paris      FR  2019-05-23 08:00:00+00:00  FR04014       no2   97.0   \n",
       "2442  Paris      FR  2019-05-23 07:00:00+00:00  FR04014       no2   91.8   \n",
       "3188  Paris      FR  2019-04-22 01:00:00+00:00  FR04014       no2   99.0   \n",
       "\n",
       "       unit  \n",
       "2441  µg/m³  \n",
       "2442  µg/m³  \n",
       "3188  µg/m³  "
      ]
     },
     "execution_count": 63,
     "metadata": {},
     "output_type": "execute_result"
    }
   ],
   "source": [
    "df[df.country.isin(['FR', 'BE']) \n",
    "   & (df.parameter == \"no2\") & (df.value > 90) ].head(3)"
   ]
  },
  {
   "cell_type": "markdown",
   "id": "dc5c4dda",
   "metadata": {},
   "source": [
    "### Filtering: `where` method {.hide .smaller-65}\n",
    "\n",
    "The `where` method is used to filter a DataFrame.  The `where` method returns a DataFrame with the same shape as the original DataFrame, but with NaN values where the condition is False.  This is useful when you want to keep the shape of the DataFrame the same."
   ]
  },
  {
   "cell_type": "code",
   "execution_count": 64,
   "id": "d7e873f2",
   "metadata": {},
   "outputs": [
    {
     "data": {
      "text/html": [
       "<div>\n",
       "<style scoped>\n",
       "    .dataframe tbody tr th:only-of-type {\n",
       "        vertical-align: middle;\n",
       "    }\n",
       "\n",
       "    .dataframe tbody tr th {\n",
       "        vertical-align: top;\n",
       "    }\n",
       "\n",
       "    .dataframe thead th {\n",
       "        text-align: right;\n",
       "    }\n",
       "</style>\n",
       "<table border=\"1\" class=\"dataframe\">\n",
       "  <thead>\n",
       "    <tr style=\"text-align: right;\">\n",
       "      <th></th>\n",
       "      <th>city</th>\n",
       "      <th>country</th>\n",
       "      <th>date.utc</th>\n",
       "      <th>location</th>\n",
       "      <th>parameter</th>\n",
       "      <th>value</th>\n",
       "      <th>unit</th>\n",
       "    </tr>\n",
       "  </thead>\n",
       "  <tbody>\n",
       "    <tr>\n",
       "      <th>2441</th>\n",
       "      <td>NaN</td>\n",
       "      <td>NaN</td>\n",
       "      <td>NaN</td>\n",
       "      <td>NaN</td>\n",
       "      <td>NaN</td>\n",
       "      <td>NaN</td>\n",
       "      <td>NaN</td>\n",
       "    </tr>\n",
       "    <tr>\n",
       "      <th>2442</th>\n",
       "      <td>NaN</td>\n",
       "      <td>NaN</td>\n",
       "      <td>NaN</td>\n",
       "      <td>NaN</td>\n",
       "      <td>NaN</td>\n",
       "      <td>NaN</td>\n",
       "      <td>NaN</td>\n",
       "    </tr>\n",
       "    <tr>\n",
       "      <th>3188</th>\n",
       "      <td>NaN</td>\n",
       "      <td>NaN</td>\n",
       "      <td>NaN</td>\n",
       "      <td>NaN</td>\n",
       "      <td>NaN</td>\n",
       "      <td>NaN</td>\n",
       "      <td>NaN</td>\n",
       "    </tr>\n",
       "  </tbody>\n",
       "</table>\n",
       "</div>"
      ],
      "text/plain": [
       "     city country date.utc location parameter  value unit\n",
       "2441  NaN     NaN      NaN      NaN       NaN    NaN  NaN\n",
       "2442  NaN     NaN      NaN      NaN       NaN    NaN  NaN\n",
       "3188  NaN     NaN      NaN      NaN       NaN    NaN  NaN"
      ]
     },
     "execution_count": 64,
     "metadata": {},
     "output_type": "execute_result"
    }
   ],
   "source": [
    "df[df.country.isin(['FR', 'BE']) \n",
    "   & (df.parameter == \"no2\") & (df.value > 90)].where(df.value > 100).head(3)"
   ]
  },
  {
   "cell_type": "markdown",
   "id": "c5e803ca",
   "metadata": {},
   "source": [
    "## Common Attributes and Methods {.hide .smaller-65}\n",
    "\n",
    "Pandas provides many methods for working with DataFrames.  Here are some common methods:\n",
    "\n",
    "- **head()**: Returns the first n rows of the DataFrame.\n",
    "- **tail()**: Returns the last n rows of the DataFrame.\n",
    "- **info()**: Prints a concise summary of a DataFrame.\n",
    "- **describe()**: Generates descriptive statistics.\n",
    "- **shape**: Returns a tuple representing the dimensionality of the DataFrame.\n",
    "- **columns**: Returns the column labels of the DataFrame.\n",
    "- **dtypes**: Returns the data types of each column.\n",
    "- **values**: Returns the data as a NumPy array.\n"
   ]
  },
  {
   "cell_type": "markdown",
   "id": "fffe381c",
   "metadata": {},
   "source": [
    "### `head` {.hide .smaller-65}\n",
    "\n",
    "The `head` method allow you to view the first few rows of a DataFrame.  By default, `head` returns the first 5 rows."
   ]
  },
  {
   "cell_type": "code",
   "execution_count": 73,
   "id": "fb321eee",
   "metadata": {},
   "outputs": [
    {
     "data": {
      "text/html": [
       "<div>\n",
       "<style scoped>\n",
       "    .dataframe tbody tr th:only-of-type {\n",
       "        vertical-align: middle;\n",
       "    }\n",
       "\n",
       "    .dataframe tbody tr th {\n",
       "        vertical-align: top;\n",
       "    }\n",
       "\n",
       "    .dataframe thead th {\n",
       "        text-align: right;\n",
       "    }\n",
       "</style>\n",
       "<table border=\"1\" class=\"dataframe\">\n",
       "  <thead>\n",
       "    <tr style=\"text-align: right;\">\n",
       "      <th></th>\n",
       "      <th>city</th>\n",
       "      <th>country</th>\n",
       "      <th>date.utc</th>\n",
       "      <th>location</th>\n",
       "      <th>parameter</th>\n",
       "      <th>value</th>\n",
       "      <th>unit</th>\n",
       "    </tr>\n",
       "  </thead>\n",
       "  <tbody>\n",
       "    <tr>\n",
       "      <th>0</th>\n",
       "      <td>Antwerpen</td>\n",
       "      <td>BE</td>\n",
       "      <td>2019-06-18 06:00:00+00:00</td>\n",
       "      <td>BETR801</td>\n",
       "      <td>pm25</td>\n",
       "      <td>18.0</td>\n",
       "      <td>µg/m³</td>\n",
       "    </tr>\n",
       "    <tr>\n",
       "      <th>1</th>\n",
       "      <td>Antwerpen</td>\n",
       "      <td>BE</td>\n",
       "      <td>2019-06-17 08:00:00+00:00</td>\n",
       "      <td>BETR801</td>\n",
       "      <td>pm25</td>\n",
       "      <td>6.5</td>\n",
       "      <td>µg/m³</td>\n",
       "    </tr>\n",
       "    <tr>\n",
       "      <th>2</th>\n",
       "      <td>Antwerpen</td>\n",
       "      <td>BE</td>\n",
       "      <td>2019-06-17 07:00:00+00:00</td>\n",
       "      <td>BETR801</td>\n",
       "      <td>pm25</td>\n",
       "      <td>18.5</td>\n",
       "      <td>µg/m³</td>\n",
       "    </tr>\n",
       "    <tr>\n",
       "      <th>3</th>\n",
       "      <td>Antwerpen</td>\n",
       "      <td>BE</td>\n",
       "      <td>2019-06-17 06:00:00+00:00</td>\n",
       "      <td>BETR801</td>\n",
       "      <td>pm25</td>\n",
       "      <td>16.0</td>\n",
       "      <td>µg/m³</td>\n",
       "    </tr>\n",
       "    <tr>\n",
       "      <th>4</th>\n",
       "      <td>Antwerpen</td>\n",
       "      <td>BE</td>\n",
       "      <td>2019-06-17 05:00:00+00:00</td>\n",
       "      <td>BETR801</td>\n",
       "      <td>pm25</td>\n",
       "      <td>7.5</td>\n",
       "      <td>µg/m³</td>\n",
       "    </tr>\n",
       "  </tbody>\n",
       "</table>\n",
       "</div>"
      ],
      "text/plain": [
       "        city country                   date.utc location parameter  value  \\\n",
       "0  Antwerpen      BE  2019-06-18 06:00:00+00:00  BETR801      pm25   18.0   \n",
       "1  Antwerpen      BE  2019-06-17 08:00:00+00:00  BETR801      pm25    6.5   \n",
       "2  Antwerpen      BE  2019-06-17 07:00:00+00:00  BETR801      pm25   18.5   \n",
       "3  Antwerpen      BE  2019-06-17 06:00:00+00:00  BETR801      pm25   16.0   \n",
       "4  Antwerpen      BE  2019-06-17 05:00:00+00:00  BETR801      pm25    7.5   \n",
       "\n",
       "    unit  \n",
       "0  µg/m³  \n",
       "1  µg/m³  \n",
       "2  µg/m³  \n",
       "3  µg/m³  \n",
       "4  µg/m³  "
      ]
     },
     "execution_count": 73,
     "metadata": {},
     "output_type": "execute_result"
    }
   ],
   "source": [
    "df.head()"
   ]
  },
  {
   "cell_type": "markdown",
   "id": "83d2d24f",
   "metadata": {},
   "source": [
    "### `tail` {.hide .smaller-65}\n",
    "\n",
    "The `tail` method allows you to view last few rows of a DataFrame.  By default, `tail` returns the last 5 rows."
   ]
  },
  {
   "cell_type": "code",
   "execution_count": 74,
   "id": "6c546137",
   "metadata": {},
   "outputs": [
    {
     "data": {
      "text/html": [
       "<div>\n",
       "<style scoped>\n",
       "    .dataframe tbody tr th:only-of-type {\n",
       "        vertical-align: middle;\n",
       "    }\n",
       "\n",
       "    .dataframe tbody tr th {\n",
       "        vertical-align: top;\n",
       "    }\n",
       "\n",
       "    .dataframe thead th {\n",
       "        text-align: right;\n",
       "    }\n",
       "</style>\n",
       "<table border=\"1\" class=\"dataframe\">\n",
       "  <thead>\n",
       "    <tr style=\"text-align: right;\">\n",
       "      <th></th>\n",
       "      <th>city</th>\n",
       "      <th>country</th>\n",
       "      <th>date.utc</th>\n",
       "      <th>location</th>\n",
       "      <th>parameter</th>\n",
       "      <th>value</th>\n",
       "      <th>unit</th>\n",
       "    </tr>\n",
       "  </thead>\n",
       "  <tbody>\n",
       "    <tr>\n",
       "      <th>5267</th>\n",
       "      <td>London</td>\n",
       "      <td>GB</td>\n",
       "      <td>2019-04-09 06:00:00+00:00</td>\n",
       "      <td>London Westminster</td>\n",
       "      <td>no2</td>\n",
       "      <td>41.0</td>\n",
       "      <td>µg/m³</td>\n",
       "    </tr>\n",
       "    <tr>\n",
       "      <th>5268</th>\n",
       "      <td>London</td>\n",
       "      <td>GB</td>\n",
       "      <td>2019-04-09 05:00:00+00:00</td>\n",
       "      <td>London Westminster</td>\n",
       "      <td>no2</td>\n",
       "      <td>41.0</td>\n",
       "      <td>µg/m³</td>\n",
       "    </tr>\n",
       "    <tr>\n",
       "      <th>5269</th>\n",
       "      <td>London</td>\n",
       "      <td>GB</td>\n",
       "      <td>2019-04-09 04:00:00+00:00</td>\n",
       "      <td>London Westminster</td>\n",
       "      <td>no2</td>\n",
       "      <td>41.0</td>\n",
       "      <td>µg/m³</td>\n",
       "    </tr>\n",
       "    <tr>\n",
       "      <th>5270</th>\n",
       "      <td>London</td>\n",
       "      <td>GB</td>\n",
       "      <td>2019-04-09 03:00:00+00:00</td>\n",
       "      <td>London Westminster</td>\n",
       "      <td>no2</td>\n",
       "      <td>67.0</td>\n",
       "      <td>µg/m³</td>\n",
       "    </tr>\n",
       "    <tr>\n",
       "      <th>5271</th>\n",
       "      <td>London</td>\n",
       "      <td>GB</td>\n",
       "      <td>2019-04-09 02:00:00+00:00</td>\n",
       "      <td>London Westminster</td>\n",
       "      <td>no2</td>\n",
       "      <td>67.0</td>\n",
       "      <td>µg/m³</td>\n",
       "    </tr>\n",
       "  </tbody>\n",
       "</table>\n",
       "</div>"
      ],
      "text/plain": [
       "        city country                   date.utc            location parameter  \\\n",
       "5267  London      GB  2019-04-09 06:00:00+00:00  London Westminster       no2   \n",
       "5268  London      GB  2019-04-09 05:00:00+00:00  London Westminster       no2   \n",
       "5269  London      GB  2019-04-09 04:00:00+00:00  London Westminster       no2   \n",
       "5270  London      GB  2019-04-09 03:00:00+00:00  London Westminster       no2   \n",
       "5271  London      GB  2019-04-09 02:00:00+00:00  London Westminster       no2   \n",
       "\n",
       "      value   unit  \n",
       "5267   41.0  µg/m³  \n",
       "5268   41.0  µg/m³  \n",
       "5269   41.0  µg/m³  \n",
       "5270   67.0  µg/m³  \n",
       "5271   67.0  µg/m³  "
      ]
     },
     "execution_count": 74,
     "metadata": {},
     "output_type": "execute_result"
    }
   ],
   "source": [
    "df.tail()"
   ]
  },
  {
   "cell_type": "markdown",
   "id": "6e485bc8",
   "metadata": {},
   "source": [
    "### `info` {.hide .smaller-65}\n",
    "\n",
    "The `info` method provides a concise summary of the DataFrame, including the number of non-null values in each column, the data type of each column, and the memory usage of the DataFrame."
   ]
  },
  {
   "cell_type": "code",
   "execution_count": 67,
   "id": "080376d0",
   "metadata": {},
   "outputs": [
    {
     "name": "stdout",
     "output_type": "stream",
     "text": [
      "<class 'pandas.core.frame.DataFrame'>\n",
      "RangeIndex: 5272 entries, 0 to 5271\n",
      "Data columns (total 7 columns):\n",
      " #   Column     Non-Null Count  Dtype  \n",
      "---  ------     --------------  -----  \n",
      " 0   city       5272 non-null   object \n",
      " 1   country    5272 non-null   object \n",
      " 2   date.utc   5272 non-null   object \n",
      " 3   location   5272 non-null   object \n",
      " 4   parameter  5272 non-null   object \n",
      " 5   value      5272 non-null   float64\n",
      " 6   unit       5272 non-null   object \n",
      "dtypes: float64(1), object(6)\n",
      "memory usage: 288.4+ KB\n"
     ]
    }
   ],
   "source": [
    "df.info()"
   ]
  },
  {
   "cell_type": "markdown",
   "id": "7ee3714a",
   "metadata": {},
   "source": [
    "### `describe` {.hide .smaller-65}\n",
    "\n",
    "The `describe` method generates descriptive statistics for each column in the DataFrame."
   ]
  },
  {
   "cell_type": "code",
   "execution_count": 68,
   "id": "7b4a7374",
   "metadata": {},
   "outputs": [
    {
     "data": {
      "text/html": [
       "<div>\n",
       "<style scoped>\n",
       "    .dataframe tbody tr th:only-of-type {\n",
       "        vertical-align: middle;\n",
       "    }\n",
       "\n",
       "    .dataframe tbody tr th {\n",
       "        vertical-align: top;\n",
       "    }\n",
       "\n",
       "    .dataframe thead th {\n",
       "        text-align: right;\n",
       "    }\n",
       "</style>\n",
       "<table border=\"1\" class=\"dataframe\">\n",
       "  <thead>\n",
       "    <tr style=\"text-align: right;\">\n",
       "      <th></th>\n",
       "      <th>value</th>\n",
       "    </tr>\n",
       "  </thead>\n",
       "  <tbody>\n",
       "    <tr>\n",
       "      <th>count</th>\n",
       "      <td>5272.000000</td>\n",
       "    </tr>\n",
       "    <tr>\n",
       "      <th>mean</th>\n",
       "      <td>24.222743</td>\n",
       "    </tr>\n",
       "    <tr>\n",
       "      <th>std</th>\n",
       "      <td>15.592773</td>\n",
       "    </tr>\n",
       "    <tr>\n",
       "      <th>min</th>\n",
       "      <td>0.000000</td>\n",
       "    </tr>\n",
       "    <tr>\n",
       "      <th>25%</th>\n",
       "      <td>11.000000</td>\n",
       "    </tr>\n",
       "    <tr>\n",
       "      <th>50%</th>\n",
       "      <td>22.000000</td>\n",
       "    </tr>\n",
       "    <tr>\n",
       "      <th>75%</th>\n",
       "      <td>33.000000</td>\n",
       "    </tr>\n",
       "    <tr>\n",
       "      <th>max</th>\n",
       "      <td>117.200000</td>\n",
       "    </tr>\n",
       "  </tbody>\n",
       "</table>\n",
       "</div>"
      ],
      "text/plain": [
       "             value\n",
       "count  5272.000000\n",
       "mean     24.222743\n",
       "std      15.592773\n",
       "min       0.000000\n",
       "25%      11.000000\n",
       "50%      22.000000\n",
       "75%      33.000000\n",
       "max     117.200000"
      ]
     },
     "execution_count": 68,
     "metadata": {},
     "output_type": "execute_result"
    }
   ],
   "source": [
    "df.describe()"
   ]
  },
  {
   "cell_type": "markdown",
   "id": "19629d04",
   "metadata": {},
   "source": [
    "### `shape` and `columns` {.hide .smaller-65}\n",
    "\n",
    "The `shape` attribute returns a tuple representing the dimensionality of the DataFrame."
   ]
  },
  {
   "cell_type": "code",
   "execution_count": 69,
   "id": "6f912785",
   "metadata": {},
   "outputs": [
    {
     "data": {
      "text/plain": [
       "(5272, 7)"
      ]
     },
     "execution_count": 69,
     "metadata": {},
     "output_type": "execute_result"
    }
   ],
   "source": [
    "df.shape"
   ]
  },
  {
   "cell_type": "markdown",
   "id": "de2966b0",
   "metadata": {},
   "source": [
    "The `columns` attribute returns the column labels of the DataFrame."
   ]
  },
  {
   "cell_type": "code",
   "execution_count": 70,
   "id": "f98983b7",
   "metadata": {},
   "outputs": [
    {
     "data": {
      "text/plain": [
       "Index(['city', 'country', 'date.utc', 'location', 'parameter', 'value',\n",
       "       'unit'],\n",
       "      dtype='object')"
      ]
     },
     "execution_count": 70,
     "metadata": {},
     "output_type": "execute_result"
    }
   ],
   "source": [
    "df.columns"
   ]
  },
  {
   "cell_type": "markdown",
   "id": "d3f5a667",
   "metadata": {},
   "source": [
    "### `dtypes` and `values` {.hide .smaller-65}\n",
    "\n",
    "The `dtypes` attribute returns the data types of each column in the DataFrame."
   ]
  },
  {
   "cell_type": "code",
   "execution_count": 71,
   "id": "7584eb81",
   "metadata": {},
   "outputs": [
    {
     "data": {
      "text/plain": [
       "city          object\n",
       "country       object\n",
       "date.utc      object\n",
       "location      object\n",
       "parameter     object\n",
       "value        float64\n",
       "unit          object\n",
       "dtype: object"
      ]
     },
     "execution_count": 71,
     "metadata": {},
     "output_type": "execute_result"
    }
   ],
   "source": [
    "df.dtypes"
   ]
  },
  {
   "cell_type": "markdown",
   "id": "82d75309",
   "metadata": {},
   "source": [
    "The `values` attribute returns the data as a NumPy array."
   ]
  },
  {
   "cell_type": "code",
   "execution_count": 72,
   "id": "25b79ece",
   "metadata": {},
   "outputs": [
    {
     "data": {
      "text/plain": [
       "array([['Antwerpen', 'BE', '2019-06-18 06:00:00+00:00', ..., 'pm25',\n",
       "        18.0, 'µg/m³'],\n",
       "       ['Antwerpen', 'BE', '2019-06-17 08:00:00+00:00', ..., 'pm25', 6.5,\n",
       "        'µg/m³'],\n",
       "       ['Antwerpen', 'BE', '2019-06-17 07:00:00+00:00', ..., 'pm25',\n",
       "        18.5, 'µg/m³'],\n",
       "       ...,\n",
       "       ['London', 'GB', '2019-04-09 04:00:00+00:00', ..., 'no2', 41.0,\n",
       "        'µg/m³'],\n",
       "       ['London', 'GB', '2019-04-09 03:00:00+00:00', ..., 'no2', 67.0,\n",
       "        'µg/m³'],\n",
       "       ['London', 'GB', '2019-04-09 02:00:00+00:00', ..., 'no2', 67.0,\n",
       "        'µg/m³']], dtype=object)"
      ]
     },
     "execution_count": 72,
     "metadata": {},
     "output_type": "execute_result"
    }
   ],
   "source": [
    "df.values"
   ]
  }
 ],
 "metadata": {
  "date": 1729158861.932433,
  "filename": "numpy.md",
  "kernelspec": {
   "display_name": "Python 3",
   "language": "python",
   "name": "python3"
  },
  "language_info": {
   "codemirror_mode": {
    "name": "ipython",
    "version": 3
   },
   "file_extension": ".py",
   "mimetype": "text/x-python",
   "name": "python",
   "nbconvert_exporter": "python",
   "pygments_lexer": "ipython3",
   "version": "3.12.7"
  },
  "title": "NumPy"
 },
 "nbformat": 4,
 "nbformat_minor": 5
}
