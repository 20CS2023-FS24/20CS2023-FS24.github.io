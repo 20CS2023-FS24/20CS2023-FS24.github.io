{
 "cells": [
  {
   "cell_type": "markdown",
   "metadata": {},
   "source": [
    "# Tuple Exercises"
   ]
  },
  {
   "cell_type": "markdown",
   "metadata": {},
   "source": [
    "1. Create a tuple containing the first five prime numbers."
   ]
  },
  {
   "cell_type": "code",
   "execution_count": 1,
   "metadata": {},
   "outputs": [],
   "source": [
    "# TODO: Enter code for exercise 1"
   ]
  },
  {
   "cell_type": "markdown",
   "metadata": {},
   "source": [
    "2. Access and print the third element of the `numbers` tuple."
   ]
  },
  {
   "cell_type": "code",
   "execution_count": 4,
   "metadata": {},
   "outputs": [],
   "source": [
    "numbers = (1, 2, 3, 4, 3, 5, 3)\n",
    "\n",
    "# TODO: Enter code for exercise 2"
   ]
  },
  {
   "cell_type": "markdown",
   "metadata": {},
   "source": [
    "3. Create a 3 element tuple where each element is a tuple containing 3 numbers and print the tuple."
   ]
  },
  {
   "cell_type": "code",
   "execution_count": 6,
   "metadata": {},
   "outputs": [],
   "source": [
    "# TODO: Enter code for exercise 3"
   ]
  },
  {
   "cell_type": "markdown",
   "metadata": {},
   "source": [
    "4. Unpack the tuple `(\"apple\", \"banana\", \"cherry\")` into three variables and print them."
   ]
  },
  {
   "cell_type": "code",
   "execution_count": 7,
   "metadata": {},
   "outputs": [],
   "source": [
    "fruit_tuple = (\"apple\", \"banana\", \"cherry\")\n",
    "\n",
    "# TODO: Enter code for exercise 4"
   ]
  },
  {
   "cell_type": "markdown",
   "metadata": {},
   "source": [
    "5. Count and print the number of occurrences of the number 3 in the tuple `(1, 2, 3, 4, 3, 5, 3)`."
   ]
  },
  {
   "cell_type": "code",
   "execution_count": 8,
   "metadata": {},
   "outputs": [],
   "source": [
    "number_tuple = (1, 2, 3, 4, 3, 5, 3)\n",
    "\n",
    "# TODO: Enter code for exercise 5"
   ]
  },
  {
   "cell_type": "markdown",
   "metadata": {},
   "source": [
    "6. Convert the list `[1, 2, 3, 4, 5]` to a tuple and print its type."
   ]
  },
  {
   "cell_type": "code",
   "execution_count": 9,
   "metadata": {},
   "outputs": [],
   "source": [
    "number_list = [1, 2, 3, 4, 5]\n",
    "\n",
    "# TODO: Enter code for exercise 6"
   ]
  },
  {
   "cell_type": "markdown",
   "metadata": {},
   "source": [
    "7. Create a tuple with a single element \"python\" and print its type."
   ]
  },
  {
   "cell_type": "code",
   "execution_count": 10,
   "metadata": {},
   "outputs": [],
   "source": [
    "single_element_tuple = (\"python\",)\n",
    "\n",
    "# TODO: Enter code for exercise 7"
   ]
  },
  {
   "cell_type": "markdown",
   "metadata": {},
   "source": [
    "8. Concatenate two tuples `(1, 2, 3)` and `(4, 5, 6)` and print the result."
   ]
  },
  {
   "cell_type": "code",
   "execution_count": 11,
   "metadata": {},
   "outputs": [],
   "source": [
    "tuple1 = (1, 2, 3)\n",
    "tuple2 = (4, 5, 6)\n",
    "\n",
    "# TODO: Enter code for exercise 8"
   ]
  },
  {
   "cell_type": "markdown",
   "metadata": {},
   "source": [
    "9. Create a tuple of 5 integers, then use slicing to print the first three elements."
   ]
  },
  {
   "cell_type": "code",
   "execution_count": 12,
   "metadata": {},
   "outputs": [],
   "source": [
    "integer_tuple = (10, 20, 30, 40, 50)\n",
    "\n",
    "# TODO: Enter code for exercise 9"
   ]
  },
  {
   "cell_type": "markdown",
   "metadata": {},
   "source": [
    "10. Find and print the index of \"banana\" in the tuple `(\"apple\", \"banana\", \"cherry\", \"date\")`."
   ]
  },
  {
   "cell_type": "code",
   "execution_count": 13,
   "metadata": {},
   "outputs": [],
   "source": [
    "fruit_tuple = (\"apple\", \"banana\", \"cherry\", \"date\")\n",
    "\n",
    "# TODO: Enter code for exercise 10"
   ]
  },
  {
   "cell_type": "markdown",
   "metadata": {},
   "source": [
    "11. Create a tuple of tuples containing name and age pairs, then sort and print the tuple based on age.  Hint: use the `sorted` function with the `age` element as the key."
   ]
  },
  {
   "cell_type": "code",
   "execution_count": 14,
   "metadata": {},
   "outputs": [],
   "source": [
    "people = ((\"Alice\", 25), (\"Bob\", 30), (\"Charlie\", 22), (\"David\", 27))\n",
    "\n",
    "# TODO: Enter code for exercise 11"
   ]
  },
  {
   "cell_type": "markdown",
   "metadata": {},
   "source": [
    "12. Create a tuple of 10 random integers between 1 and 100, then find and print the maximum and minimum values.  Hint: use the `random` module with the `randint` function."
   ]
  },
  {
   "cell_type": "code",
   "execution_count": 15,
   "metadata": {},
   "outputs": [],
   "source": [
    "import random\n",
    "\n",
    "# TODO: Enter code for exercise 12"
   ]
  },
  {
   "cell_type": "markdown",
   "metadata": {},
   "source": [
    "13. Create two tuples of 5 integers each, then create a new tuple that contains the common elements between them.  Hint: convert the tuples to sets and use a set operation."
   ]
  },
  {
   "cell_type": "code",
   "execution_count": 19,
   "metadata": {},
   "outputs": [],
   "source": [
    "tuple1 = (1, 2, 3, 4, 5)\n",
    "tuple2 = (4, 5, 6, 7, 8)\n",
    "\n",
    "# TODO: Enter code for exercise 13"
   ]
  },
  {
   "cell_type": "markdown",
   "metadata": {},
   "source": [
    "14. Create a tuple of weekdays, then use a for loop to print each day."
   ]
  },
  {
   "cell_type": "code",
   "execution_count": 20,
   "metadata": {},
   "outputs": [],
   "source": [
    "weekdays = (\"Monday\", \"Tuesday\", \"Wednesday\", \"Thursday\", \"Friday\", \"Saturday\", \"Sunday\")\n",
    "\n",
    "# TODO: Enter code for exercise 14"
   ]
  },
  {
   "cell_type": "markdown",
   "metadata": {},
   "source": [
    "15. Create a tuple of 5 floats, then calculate and print their average."
   ]
  },
  {
   "cell_type": "code",
   "execution_count": 22,
   "metadata": {},
   "outputs": [],
   "source": [
    "float_tuple = (1.5, 2.3, 3.7, 4.1, 5.8)\n",
    "\n",
    "# TODO: Enter code for exercise 15"
   ]
  },
  {
   "cell_type": "markdown",
   "metadata": {},
   "source": [
    "16. Create a tuple of 5 strings, then join them into a single string separated by spaces."
   ]
  },
  {
   "cell_type": "code",
   "execution_count": 23,
   "metadata": {},
   "outputs": [],
   "source": [
    "word_tuple = (\"Python\", \"is\", \"a\", \"great\", \"language\")\n",
    "\n",
    "# TODO: Enter code for exercise 16"
   ]
  },
  {
   "cell_type": "markdown",
   "metadata": {},
   "source": [
    "17. Create a tuple of tuples representing (x, y) coordinates, then use a list comprehension to create a new tuple with only the coordinates in the first quadrant (x > 0 and y > 0)."
   ]
  },
  {
   "cell_type": "code",
   "execution_count": 24,
   "metadata": {},
   "outputs": [],
   "source": [
    "coordinates = ((1, 2), (-3, 4), (5, -6), (7, 8), (-9, -10))\n",
    "\n",
    "# TODO: Enter code for exercise 17"
   ]
  },
  {
   "cell_type": "markdown",
   "metadata": {},
   "source": [
    "18. Create a tuple of 10 integers, then use tuple unpacking to assign the first three numbers to variables a, b, c, and the rest to a list called rest."
   ]
  },
  {
   "cell_type": "code",
   "execution_count": 25,
   "metadata": {},
   "outputs": [],
   "source": [
    "numbers = (1, 2, 3, 4, 5, 6, 7, 8, 9, 10)\n",
    "\n",
    "# TODO: Enter code for exercise 18"
   ]
  },
  {
   "cell_type": "markdown",
   "metadata": {},
   "source": [
    "19. Create a tuple of 5 complex numbers, then create a new tuple containing only their real parts."
   ]
  },
  {
   "cell_type": "code",
   "execution_count": 27,
   "metadata": {},
   "outputs": [],
   "source": [
    "complex_tuple = (1+2j, 3-4j, 5+6j, 7-8j, 9+10j)\n",
    "\n",
    "# TODO: Enter code for exercise 19"
   ]
  },
  {
   "cell_type": "markdown",
   "metadata": {},
   "source": [
    "20. Create a tuple of 5 boolean values, then use the all() and any() functions to check if all values are True and if any value is True, respectively."
   ]
  },
  {
   "cell_type": "code",
   "execution_count": 28,
   "metadata": {},
   "outputs": [],
   "source": [
    "bool_tuple = (True, False, True, True, False)\n",
    "\n",
    "# TODO: Enter code for exercise 20"
   ]
  }
 ],
 "metadata": {
  "kernelspec": {
   "display_name": "Python 3",
   "language": "python",
   "name": "python3"
  },
  "language_info": {
   "codemirror_mode": {
    "name": "ipython",
    "version": 3
   },
   "file_extension": ".py",
   "mimetype": "text/x-python",
   "name": "python",
   "nbconvert_exporter": "python",
   "pygments_lexer": "ipython3",
   "version": "3.12.5"
  }
 },
 "nbformat": 4,
 "nbformat_minor": 4
}
